{
 "cells": [
  {
   "cell_type": "markdown",
   "metadata": {},
   "source": [
    "# Flight Emission Estimator Benchmarking"
   ]
  },
  {
   "cell_type": "code",
   "execution_count": 1,
   "metadata": {},
   "outputs": [],
   "source": [
    "import pandas as pd\n",
    "import plotly.express as px\n",
    "import plotly.graph_objects as go\n",
    "\n",
    "color_sequence = [px.colors.qualitative.D3[2], px.colors.qualitative.D3[0], px.colors.qualitative.D3[1], px.colors.qualitative.D3[3], px.colors.qualitative.D3[4]]\n"
   ]
  },
  {
   "cell_type": "markdown",
   "metadata": {},
   "source": [
    "## Comparison of Estimators for Different Flight Ranges (Short/Mid/Long)"
   ]
  },
  {
   "cell_type": "code",
   "execution_count": 2,
   "metadata": {},
   "outputs": [
    {
     "data": {
      "text/html": [
       "<div>\n",
       "<style scoped>\n",
       "    .dataframe tbody tr th:only-of-type {\n",
       "        vertical-align: middle;\n",
       "    }\n",
       "\n",
       "    .dataframe tbody tr th {\n",
       "        vertical-align: top;\n",
       "    }\n",
       "\n",
       "    .dataframe thead th {\n",
       "        text-align: right;\n",
       "    }\n",
       "</style>\n",
       "<table border=\"1\" class=\"dataframe\">\n",
       "  <thead>\n",
       "    <tr style=\"text-align: right;\">\n",
       "      <th></th>\n",
       "      <th>Emission Offsetter</th>\n",
       "      <th>Range</th>\n",
       "      <th>Route</th>\n",
       "      <th>Emission</th>\n",
       "      <th>Type</th>\n",
       "      <th>Range Label</th>\n",
       "    </tr>\n",
       "  </thead>\n",
       "  <tbody>\n",
       "    <tr>\n",
       "      <th>0</th>\n",
       "      <td>disCarbon</td>\n",
       "      <td>Short</td>\n",
       "      <td>CJU-GMP</td>\n",
       "      <td>0.2800</td>\n",
       "      <td>Single</td>\n",
       "      <td>Short: CJU-GMP, 450 km</td>\n",
       "    </tr>\n",
       "    <tr>\n",
       "      <th>1</th>\n",
       "      <td>myclimate</td>\n",
       "      <td>Short</td>\n",
       "      <td>CJU-GMP</td>\n",
       "      <td>0.2820</td>\n",
       "      <td>Single</td>\n",
       "      <td>Short: CJU-GMP, 450 km</td>\n",
       "    </tr>\n",
       "    <tr>\n",
       "      <th>2</th>\n",
       "      <td>atmosfair</td>\n",
       "      <td>Short</td>\n",
       "      <td>CJU-GMP</td>\n",
       "      <td>0.1530</td>\n",
       "      <td>Single</td>\n",
       "      <td>Short: CJU-GMP, 450 km</td>\n",
       "    </tr>\n",
       "    <tr>\n",
       "      <th>3</th>\n",
       "      <td>atmosfair</td>\n",
       "      <td>Short</td>\n",
       "      <td>CJU-GMP</td>\n",
       "      <td>0.2000</td>\n",
       "      <td>Single</td>\n",
       "      <td>Short: CJU-GMP, 450 km</td>\n",
       "    </tr>\n",
       "    <tr>\n",
       "      <th>4</th>\n",
       "      <td>atmosfair</td>\n",
       "      <td>Short</td>\n",
       "      <td>CJU-GMP</td>\n",
       "      <td>0.2070</td>\n",
       "      <td>Single</td>\n",
       "      <td>Short: CJU-GMP, 450 km</td>\n",
       "    </tr>\n",
       "    <tr>\n",
       "      <th>5</th>\n",
       "      <td>atmosfair</td>\n",
       "      <td>Short</td>\n",
       "      <td>CJU-GMP</td>\n",
       "      <td>0.2060</td>\n",
       "      <td>Average</td>\n",
       "      <td>Short: CJU-GMP, 450 km</td>\n",
       "    </tr>\n",
       "    <tr>\n",
       "      <th>6</th>\n",
       "      <td>Google Flights</td>\n",
       "      <td>Short</td>\n",
       "      <td>CJU-GMP</td>\n",
       "      <td>0.0960</td>\n",
       "      <td>Single</td>\n",
       "      <td>Short: CJU-GMP, 450 km</td>\n",
       "    </tr>\n",
       "    <tr>\n",
       "      <th>7</th>\n",
       "      <td>Google Flights</td>\n",
       "      <td>Short</td>\n",
       "      <td>CJU-GMP</td>\n",
       "      <td>0.1000</td>\n",
       "      <td>Single</td>\n",
       "      <td>Short: CJU-GMP, 450 km</td>\n",
       "    </tr>\n",
       "    <tr>\n",
       "      <th>8</th>\n",
       "      <td>Google Flights</td>\n",
       "      <td>Short</td>\n",
       "      <td>CJU-GMP</td>\n",
       "      <td>0.1020</td>\n",
       "      <td>Single</td>\n",
       "      <td>Short: CJU-GMP, 450 km</td>\n",
       "    </tr>\n",
       "    <tr>\n",
       "      <th>9</th>\n",
       "      <td>Google Flights</td>\n",
       "      <td>Short</td>\n",
       "      <td>CJU-GMP</td>\n",
       "      <td>0.1060</td>\n",
       "      <td>Single</td>\n",
       "      <td>Short: CJU-GMP, 450 km</td>\n",
       "    </tr>\n",
       "    <tr>\n",
       "      <th>10</th>\n",
       "      <td>Google Flights</td>\n",
       "      <td>Short</td>\n",
       "      <td>CJU-GMP</td>\n",
       "      <td>0.1120</td>\n",
       "      <td>Single</td>\n",
       "      <td>Short: CJU-GMP, 450 km</td>\n",
       "    </tr>\n",
       "    <tr>\n",
       "      <th>11</th>\n",
       "      <td>Google Flights</td>\n",
       "      <td>Short</td>\n",
       "      <td>CJU-GMP</td>\n",
       "      <td>0.1160</td>\n",
       "      <td>Single</td>\n",
       "      <td>Short: CJU-GMP, 450 km</td>\n",
       "    </tr>\n",
       "    <tr>\n",
       "      <th>12</th>\n",
       "      <td>Google Flights</td>\n",
       "      <td>Short</td>\n",
       "      <td>CJU-GMP</td>\n",
       "      <td>0.1180</td>\n",
       "      <td>Single</td>\n",
       "      <td>Short: CJU-GMP, 450 km</td>\n",
       "    </tr>\n",
       "    <tr>\n",
       "      <th>13</th>\n",
       "      <td>Google Flights</td>\n",
       "      <td>Short</td>\n",
       "      <td>CJU-GMP</td>\n",
       "      <td>0.1220</td>\n",
       "      <td>Single</td>\n",
       "      <td>Short: CJU-GMP, 450 km</td>\n",
       "    </tr>\n",
       "    <tr>\n",
       "      <th>14</th>\n",
       "      <td>Google Flights</td>\n",
       "      <td>Short</td>\n",
       "      <td>CJU-GMP</td>\n",
       "      <td>0.1240</td>\n",
       "      <td>Single</td>\n",
       "      <td>Short: CJU-GMP, 450 km</td>\n",
       "    </tr>\n",
       "    <tr>\n",
       "      <th>15</th>\n",
       "      <td>Google Flights</td>\n",
       "      <td>Short</td>\n",
       "      <td>CJU-GMP</td>\n",
       "      <td>0.1260</td>\n",
       "      <td>Single</td>\n",
       "      <td>Short: CJU-GMP, 450 km</td>\n",
       "    </tr>\n",
       "    <tr>\n",
       "      <th>16</th>\n",
       "      <td>Google Flights</td>\n",
       "      <td>Short</td>\n",
       "      <td>CJU-GMP</td>\n",
       "      <td>0.1440</td>\n",
       "      <td>Single</td>\n",
       "      <td>Short: CJU-GMP, 450 km</td>\n",
       "    </tr>\n",
       "    <tr>\n",
       "      <th>17</th>\n",
       "      <td>ICAO</td>\n",
       "      <td>Short</td>\n",
       "      <td>CJU-GMP</td>\n",
       "      <td>0.1068</td>\n",
       "      <td>Single</td>\n",
       "      <td>Short: CJU-GMP, 450 km</td>\n",
       "    </tr>\n",
       "  </tbody>\n",
       "</table>\n",
       "</div>"
      ],
      "text/plain": [
       "   Emission Offsetter  Range    Route  Emission     Type  \\\n",
       "0           disCarbon  Short  CJU-GMP    0.2800   Single   \n",
       "1           myclimate  Short  CJU-GMP    0.2820   Single   \n",
       "2           atmosfair  Short  CJU-GMP    0.1530   Single   \n",
       "3           atmosfair  Short  CJU-GMP    0.2000   Single   \n",
       "4           atmosfair  Short  CJU-GMP    0.2070   Single   \n",
       "5           atmosfair  Short  CJU-GMP    0.2060  Average   \n",
       "6      Google Flights  Short  CJU-GMP    0.0960   Single   \n",
       "7      Google Flights  Short  CJU-GMP    0.1000   Single   \n",
       "8      Google Flights  Short  CJU-GMP    0.1020   Single   \n",
       "9      Google Flights  Short  CJU-GMP    0.1060   Single   \n",
       "10     Google Flights  Short  CJU-GMP    0.1120   Single   \n",
       "11     Google Flights  Short  CJU-GMP    0.1160   Single   \n",
       "12     Google Flights  Short  CJU-GMP    0.1180   Single   \n",
       "13     Google Flights  Short  CJU-GMP    0.1220   Single   \n",
       "14     Google Flights  Short  CJU-GMP    0.1240   Single   \n",
       "15     Google Flights  Short  CJU-GMP    0.1260   Single   \n",
       "16     Google Flights  Short  CJU-GMP    0.1440   Single   \n",
       "17               ICAO  Short  CJU-GMP    0.1068   Single   \n",
       "\n",
       "               Range Label  \n",
       "0   Short: CJU-GMP, 450 km  \n",
       "1   Short: CJU-GMP, 450 km  \n",
       "2   Short: CJU-GMP, 450 km  \n",
       "3   Short: CJU-GMP, 450 km  \n",
       "4   Short: CJU-GMP, 450 km  \n",
       "5   Short: CJU-GMP, 450 km  \n",
       "6   Short: CJU-GMP, 450 km  \n",
       "7   Short: CJU-GMP, 450 km  \n",
       "8   Short: CJU-GMP, 450 km  \n",
       "9   Short: CJU-GMP, 450 km  \n",
       "10  Short: CJU-GMP, 450 km  \n",
       "11  Short: CJU-GMP, 450 km  \n",
       "12  Short: CJU-GMP, 450 km  \n",
       "13  Short: CJU-GMP, 450 km  \n",
       "14  Short: CJU-GMP, 450 km  \n",
       "15  Short: CJU-GMP, 450 km  \n",
       "16  Short: CJU-GMP, 450 km  \n",
       "17  Short: CJU-GMP, 450 km  "
      ]
     },
     "execution_count": 2,
     "metadata": {},
     "output_type": "execute_result"
    }
   ],
   "source": [
    "emissions_range =  pd.read_csv(\"20220719EstimatorComparisonRange.csv\")\n",
    "emissions_range.query(\"Range=='Short'\")"
   ]
  },
  {
   "cell_type": "code",
   "execution_count": 3,
   "metadata": {},
   "outputs": [
    {
     "data": {
      "application/vnd.plotly.v1+json": {
       "config": {
        "plotlyServerURL": "https://plot.ly"
       },
       "data": [
        {
         "hovertemplate": "Emission Offsetter=%{x}<br>Emission=%{y}<extra></extra>",
         "legendgroup": "disCarbon",
         "marker": {
          "color": "#2CA02C",
          "size": 10,
          "symbol": "x"
         },
         "mode": "markers",
         "name": "disCarbon",
         "orientation": "v",
         "showlegend": true,
         "type": "scatter",
         "x": [
          "disCarbon"
         ],
         "xaxis": "x",
         "y": [
          0.28
         ],
         "yaxis": "y"
        },
        {
         "hovertemplate": "Emission Offsetter=%{x}<br>Emission=%{y}<extra></extra>",
         "legendgroup": "myclimate",
         "marker": {
          "color": "#1F77B4",
          "size": 10,
          "symbol": "x"
         },
         "mode": "markers",
         "name": "myclimate",
         "orientation": "v",
         "showlegend": true,
         "type": "scatter",
         "x": [
          "myclimate"
         ],
         "xaxis": "x",
         "y": [
          0.282
         ],
         "yaxis": "y"
        },
        {
         "hovertemplate": "Emission Offsetter=%{x}<br>Emission=%{y}<extra></extra>",
         "legendgroup": "atmosfair",
         "marker": {
          "color": "#FF7F0E",
          "size": 10,
          "symbol": "x"
         },
         "mode": "markers",
         "name": "atmosfair",
         "orientation": "v",
         "showlegend": true,
         "type": "scatter",
         "x": [
          "atmosfair",
          "atmosfair",
          "atmosfair",
          "atmosfair"
         ],
         "xaxis": "x",
         "y": [
          0.153,
          0.2,
          0.207,
          0.206
         ],
         "yaxis": "y"
        },
        {
         "hovertemplate": "Emission Offsetter=%{x}<br>Emission=%{y}<extra></extra>",
         "legendgroup": "Google Flights",
         "marker": {
          "color": "#D62728",
          "size": 10,
          "symbol": "x"
         },
         "mode": "markers",
         "name": "Google Flights",
         "orientation": "v",
         "showlegend": true,
         "type": "scatter",
         "x": [
          "Google Flights",
          "Google Flights",
          "Google Flights",
          "Google Flights",
          "Google Flights",
          "Google Flights",
          "Google Flights",
          "Google Flights",
          "Google Flights",
          "Google Flights",
          "Google Flights"
         ],
         "xaxis": "x",
         "y": [
          0.096,
          0.1,
          0.102,
          0.106,
          0.112,
          0.116,
          0.118,
          0.122,
          0.124,
          0.126,
          0.144
         ],
         "yaxis": "y"
        },
        {
         "hovertemplate": "Emission Offsetter=%{x}<br>Emission=%{y}<extra></extra>",
         "legendgroup": "ICAO",
         "marker": {
          "color": "#9467BD",
          "size": 10,
          "symbol": "x"
         },
         "mode": "markers",
         "name": "ICAO",
         "orientation": "v",
         "showlegend": true,
         "type": "scatter",
         "x": [
          "ICAO"
         ],
         "xaxis": "x",
         "y": [
          0.1068
         ],
         "yaxis": "y"
        }
       ],
       "layout": {
        "height": 500,
        "legend": {
         "title": {
          "text": "Emission Offsetter"
         },
         "tracegroupgap": 0
        },
        "margin": {
         "t": 60
        },
        "showlegend": false,
        "template": {
         "data": {
          "bar": [
           {
            "error_x": {
             "color": "#2a3f5f"
            },
            "error_y": {
             "color": "#2a3f5f"
            },
            "marker": {
             "line": {
              "color": "#E5ECF6",
              "width": 0.5
             },
             "pattern": {
              "fillmode": "overlay",
              "size": 10,
              "solidity": 0.2
             }
            },
            "type": "bar"
           }
          ],
          "barpolar": [
           {
            "marker": {
             "line": {
              "color": "#E5ECF6",
              "width": 0.5
             },
             "pattern": {
              "fillmode": "overlay",
              "size": 10,
              "solidity": 0.2
             }
            },
            "type": "barpolar"
           }
          ],
          "carpet": [
           {
            "aaxis": {
             "endlinecolor": "#2a3f5f",
             "gridcolor": "white",
             "linecolor": "white",
             "minorgridcolor": "white",
             "startlinecolor": "#2a3f5f"
            },
            "baxis": {
             "endlinecolor": "#2a3f5f",
             "gridcolor": "white",
             "linecolor": "white",
             "minorgridcolor": "white",
             "startlinecolor": "#2a3f5f"
            },
            "type": "carpet"
           }
          ],
          "choropleth": [
           {
            "colorbar": {
             "outlinewidth": 0,
             "ticks": ""
            },
            "type": "choropleth"
           }
          ],
          "contour": [
           {
            "colorbar": {
             "outlinewidth": 0,
             "ticks": ""
            },
            "colorscale": [
             [
              0,
              "#0d0887"
             ],
             [
              0.1111111111111111,
              "#46039f"
             ],
             [
              0.2222222222222222,
              "#7201a8"
             ],
             [
              0.3333333333333333,
              "#9c179e"
             ],
             [
              0.4444444444444444,
              "#bd3786"
             ],
             [
              0.5555555555555556,
              "#d8576b"
             ],
             [
              0.6666666666666666,
              "#ed7953"
             ],
             [
              0.7777777777777778,
              "#fb9f3a"
             ],
             [
              0.8888888888888888,
              "#fdca26"
             ],
             [
              1,
              "#f0f921"
             ]
            ],
            "type": "contour"
           }
          ],
          "contourcarpet": [
           {
            "colorbar": {
             "outlinewidth": 0,
             "ticks": ""
            },
            "type": "contourcarpet"
           }
          ],
          "heatmap": [
           {
            "colorbar": {
             "outlinewidth": 0,
             "ticks": ""
            },
            "colorscale": [
             [
              0,
              "#0d0887"
             ],
             [
              0.1111111111111111,
              "#46039f"
             ],
             [
              0.2222222222222222,
              "#7201a8"
             ],
             [
              0.3333333333333333,
              "#9c179e"
             ],
             [
              0.4444444444444444,
              "#bd3786"
             ],
             [
              0.5555555555555556,
              "#d8576b"
             ],
             [
              0.6666666666666666,
              "#ed7953"
             ],
             [
              0.7777777777777778,
              "#fb9f3a"
             ],
             [
              0.8888888888888888,
              "#fdca26"
             ],
             [
              1,
              "#f0f921"
             ]
            ],
            "type": "heatmap"
           }
          ],
          "heatmapgl": [
           {
            "colorbar": {
             "outlinewidth": 0,
             "ticks": ""
            },
            "colorscale": [
             [
              0,
              "#0d0887"
             ],
             [
              0.1111111111111111,
              "#46039f"
             ],
             [
              0.2222222222222222,
              "#7201a8"
             ],
             [
              0.3333333333333333,
              "#9c179e"
             ],
             [
              0.4444444444444444,
              "#bd3786"
             ],
             [
              0.5555555555555556,
              "#d8576b"
             ],
             [
              0.6666666666666666,
              "#ed7953"
             ],
             [
              0.7777777777777778,
              "#fb9f3a"
             ],
             [
              0.8888888888888888,
              "#fdca26"
             ],
             [
              1,
              "#f0f921"
             ]
            ],
            "type": "heatmapgl"
           }
          ],
          "histogram": [
           {
            "marker": {
             "pattern": {
              "fillmode": "overlay",
              "size": 10,
              "solidity": 0.2
             }
            },
            "type": "histogram"
           }
          ],
          "histogram2d": [
           {
            "colorbar": {
             "outlinewidth": 0,
             "ticks": ""
            },
            "colorscale": [
             [
              0,
              "#0d0887"
             ],
             [
              0.1111111111111111,
              "#46039f"
             ],
             [
              0.2222222222222222,
              "#7201a8"
             ],
             [
              0.3333333333333333,
              "#9c179e"
             ],
             [
              0.4444444444444444,
              "#bd3786"
             ],
             [
              0.5555555555555556,
              "#d8576b"
             ],
             [
              0.6666666666666666,
              "#ed7953"
             ],
             [
              0.7777777777777778,
              "#fb9f3a"
             ],
             [
              0.8888888888888888,
              "#fdca26"
             ],
             [
              1,
              "#f0f921"
             ]
            ],
            "type": "histogram2d"
           }
          ],
          "histogram2dcontour": [
           {
            "colorbar": {
             "outlinewidth": 0,
             "ticks": ""
            },
            "colorscale": [
             [
              0,
              "#0d0887"
             ],
             [
              0.1111111111111111,
              "#46039f"
             ],
             [
              0.2222222222222222,
              "#7201a8"
             ],
             [
              0.3333333333333333,
              "#9c179e"
             ],
             [
              0.4444444444444444,
              "#bd3786"
             ],
             [
              0.5555555555555556,
              "#d8576b"
             ],
             [
              0.6666666666666666,
              "#ed7953"
             ],
             [
              0.7777777777777778,
              "#fb9f3a"
             ],
             [
              0.8888888888888888,
              "#fdca26"
             ],
             [
              1,
              "#f0f921"
             ]
            ],
            "type": "histogram2dcontour"
           }
          ],
          "mesh3d": [
           {
            "colorbar": {
             "outlinewidth": 0,
             "ticks": ""
            },
            "type": "mesh3d"
           }
          ],
          "parcoords": [
           {
            "line": {
             "colorbar": {
              "outlinewidth": 0,
              "ticks": ""
             }
            },
            "type": "parcoords"
           }
          ],
          "pie": [
           {
            "automargin": true,
            "type": "pie"
           }
          ],
          "scatter": [
           {
            "fillpattern": {
             "fillmode": "overlay",
             "size": 10,
             "solidity": 0.2
            },
            "type": "scatter"
           }
          ],
          "scatter3d": [
           {
            "line": {
             "colorbar": {
              "outlinewidth": 0,
              "ticks": ""
             }
            },
            "marker": {
             "colorbar": {
              "outlinewidth": 0,
              "ticks": ""
             }
            },
            "type": "scatter3d"
           }
          ],
          "scattercarpet": [
           {
            "marker": {
             "colorbar": {
              "outlinewidth": 0,
              "ticks": ""
             }
            },
            "type": "scattercarpet"
           }
          ],
          "scattergeo": [
           {
            "marker": {
             "colorbar": {
              "outlinewidth": 0,
              "ticks": ""
             }
            },
            "type": "scattergeo"
           }
          ],
          "scattergl": [
           {
            "marker": {
             "colorbar": {
              "outlinewidth": 0,
              "ticks": ""
             }
            },
            "type": "scattergl"
           }
          ],
          "scattermapbox": [
           {
            "marker": {
             "colorbar": {
              "outlinewidth": 0,
              "ticks": ""
             }
            },
            "type": "scattermapbox"
           }
          ],
          "scatterpolar": [
           {
            "marker": {
             "colorbar": {
              "outlinewidth": 0,
              "ticks": ""
             }
            },
            "type": "scatterpolar"
           }
          ],
          "scatterpolargl": [
           {
            "marker": {
             "colorbar": {
              "outlinewidth": 0,
              "ticks": ""
             }
            },
            "type": "scatterpolargl"
           }
          ],
          "scatterternary": [
           {
            "marker": {
             "colorbar": {
              "outlinewidth": 0,
              "ticks": ""
             }
            },
            "type": "scatterternary"
           }
          ],
          "surface": [
           {
            "colorbar": {
             "outlinewidth": 0,
             "ticks": ""
            },
            "colorscale": [
             [
              0,
              "#0d0887"
             ],
             [
              0.1111111111111111,
              "#46039f"
             ],
             [
              0.2222222222222222,
              "#7201a8"
             ],
             [
              0.3333333333333333,
              "#9c179e"
             ],
             [
              0.4444444444444444,
              "#bd3786"
             ],
             [
              0.5555555555555556,
              "#d8576b"
             ],
             [
              0.6666666666666666,
              "#ed7953"
             ],
             [
              0.7777777777777778,
              "#fb9f3a"
             ],
             [
              0.8888888888888888,
              "#fdca26"
             ],
             [
              1,
              "#f0f921"
             ]
            ],
            "type": "surface"
           }
          ],
          "table": [
           {
            "cells": {
             "fill": {
              "color": "#EBF0F8"
             },
             "line": {
              "color": "white"
             }
            },
            "header": {
             "fill": {
              "color": "#C8D4E3"
             },
             "line": {
              "color": "white"
             }
            },
            "type": "table"
           }
          ]
         },
         "layout": {
          "annotationdefaults": {
           "arrowcolor": "#2a3f5f",
           "arrowhead": 0,
           "arrowwidth": 1
          },
          "autotypenumbers": "strict",
          "coloraxis": {
           "colorbar": {
            "outlinewidth": 0,
            "ticks": ""
           }
          },
          "colorscale": {
           "diverging": [
            [
             0,
             "#8e0152"
            ],
            [
             0.1,
             "#c51b7d"
            ],
            [
             0.2,
             "#de77ae"
            ],
            [
             0.3,
             "#f1b6da"
            ],
            [
             0.4,
             "#fde0ef"
            ],
            [
             0.5,
             "#f7f7f7"
            ],
            [
             0.6,
             "#e6f5d0"
            ],
            [
             0.7,
             "#b8e186"
            ],
            [
             0.8,
             "#7fbc41"
            ],
            [
             0.9,
             "#4d9221"
            ],
            [
             1,
             "#276419"
            ]
           ],
           "sequential": [
            [
             0,
             "#0d0887"
            ],
            [
             0.1111111111111111,
             "#46039f"
            ],
            [
             0.2222222222222222,
             "#7201a8"
            ],
            [
             0.3333333333333333,
             "#9c179e"
            ],
            [
             0.4444444444444444,
             "#bd3786"
            ],
            [
             0.5555555555555556,
             "#d8576b"
            ],
            [
             0.6666666666666666,
             "#ed7953"
            ],
            [
             0.7777777777777778,
             "#fb9f3a"
            ],
            [
             0.8888888888888888,
             "#fdca26"
            ],
            [
             1,
             "#f0f921"
            ]
           ],
           "sequentialminus": [
            [
             0,
             "#0d0887"
            ],
            [
             0.1111111111111111,
             "#46039f"
            ],
            [
             0.2222222222222222,
             "#7201a8"
            ],
            [
             0.3333333333333333,
             "#9c179e"
            ],
            [
             0.4444444444444444,
             "#bd3786"
            ],
            [
             0.5555555555555556,
             "#d8576b"
            ],
            [
             0.6666666666666666,
             "#ed7953"
            ],
            [
             0.7777777777777778,
             "#fb9f3a"
            ],
            [
             0.8888888888888888,
             "#fdca26"
            ],
            [
             1,
             "#f0f921"
            ]
           ]
          },
          "colorway": [
           "#636efa",
           "#EF553B",
           "#00cc96",
           "#ab63fa",
           "#FFA15A",
           "#19d3f3",
           "#FF6692",
           "#B6E880",
           "#FF97FF",
           "#FECB52"
          ],
          "font": {
           "color": "#2a3f5f"
          },
          "geo": {
           "bgcolor": "white",
           "lakecolor": "white",
           "landcolor": "#E5ECF6",
           "showlakes": true,
           "showland": true,
           "subunitcolor": "white"
          },
          "hoverlabel": {
           "align": "left"
          },
          "hovermode": "closest",
          "mapbox": {
           "style": "light"
          },
          "paper_bgcolor": "white",
          "plot_bgcolor": "#E5ECF6",
          "polar": {
           "angularaxis": {
            "gridcolor": "white",
            "linecolor": "white",
            "ticks": ""
           },
           "bgcolor": "#E5ECF6",
           "radialaxis": {
            "gridcolor": "white",
            "linecolor": "white",
            "ticks": ""
           }
          },
          "scene": {
           "xaxis": {
            "backgroundcolor": "#E5ECF6",
            "gridcolor": "white",
            "gridwidth": 2,
            "linecolor": "white",
            "showbackground": true,
            "ticks": "",
            "zerolinecolor": "white"
           },
           "yaxis": {
            "backgroundcolor": "#E5ECF6",
            "gridcolor": "white",
            "gridwidth": 2,
            "linecolor": "white",
            "showbackground": true,
            "ticks": "",
            "zerolinecolor": "white"
           },
           "zaxis": {
            "backgroundcolor": "#E5ECF6",
            "gridcolor": "white",
            "gridwidth": 2,
            "linecolor": "white",
            "showbackground": true,
            "ticks": "",
            "zerolinecolor": "white"
           }
          },
          "shapedefaults": {
           "line": {
            "color": "#2a3f5f"
           }
          },
          "ternary": {
           "aaxis": {
            "gridcolor": "white",
            "linecolor": "white",
            "ticks": ""
           },
           "baxis": {
            "gridcolor": "white",
            "linecolor": "white",
            "ticks": ""
           },
           "bgcolor": "#E5ECF6",
           "caxis": {
            "gridcolor": "white",
            "linecolor": "white",
            "ticks": ""
           }
          },
          "title": {
           "x": 0.05
          },
          "xaxis": {
           "automargin": true,
           "gridcolor": "white",
           "linecolor": "white",
           "ticks": "",
           "title": {
            "standoff": 15
           },
           "zerolinecolor": "white",
           "zerolinewidth": 2
          },
          "yaxis": {
           "automargin": true,
           "gridcolor": "white",
           "linecolor": "white",
           "ticks": "",
           "title": {
            "standoff": 15
           },
           "zerolinecolor": "white",
           "zerolinewidth": 2
          }
         }
        },
        "title": {
         "text": "Emission Estimations for a Short Range Flight: Jeju - Seoul (CJU - ICN), 450 km",
         "x": 0.5
        },
        "width": 1000,
        "xaxis": {
         "anchor": "y",
         "categoryarray": [
          "disCarbon",
          "myclimate",
          "atmosfair",
          "Google Flights",
          "ICAO"
         ],
         "categoryorder": "array",
         "domain": [
          0,
          1
         ],
         "title": {
          "text": "Emission Offsetter"
         }
        },
        "yaxis": {
         "anchor": "x",
         "domain": [
          0,
          1
         ],
         "range": [
          0,
          0.8
         ],
         "title": {
          "text": "Emissions, tCO<sub>2</sub>"
         }
        }
       }
      }
     },
     "metadata": {},
     "output_type": "display_data"
    }
   ],
   "source": [
    "fig = px.scatter(emissions_range.query(\"Range=='Short'\"), x=\"Emission Offsetter\", y=\"Emission\", color=\"Emission Offsetter\", color_discrete_sequence=color_sequence)\n",
    "fig.update_yaxes(range=[0, 0.8])\n",
    "fig.update_layout(\n",
    "    title=\"Emission Estimations for a Short Range Flight: Jeju - Seoul (CJU - ICN), 450 km\",\n",
    "    title_x=0.5,\n",
    "    yaxis_title=\"Emissions, tCO<sub>2</sub>\",\n",
    "    showlegend=False,\n",
    "    height=500, width=1000\n",
    ")\n",
    "fig.update_traces(marker_symbol='x', marker_size=10)\n",
    "fig.show()"
   ]
  },
  {
   "cell_type": "code",
   "execution_count": 4,
   "metadata": {},
   "outputs": [
    {
     "data": {
      "application/vnd.plotly.v1+json": {
       "config": {
        "plotlyServerURL": "https://plot.ly"
       },
       "data": [
        {
         "hovertemplate": "Emission Offsetter=%{x}<br>Emission=%{y}<extra></extra>",
         "legendgroup": "disCarbon",
         "marker": {
          "color": "#2CA02C",
          "size": 10,
          "symbol": "x"
         },
         "mode": "markers",
         "name": "disCarbon",
         "orientation": "v",
         "showlegend": true,
         "type": "scatter",
         "x": [
          "disCarbon"
         ],
         "xaxis": "x",
         "y": [
          0.65
         ],
         "yaxis": "y"
        },
        {
         "hovertemplate": "Emission Offsetter=%{x}<br>Emission=%{y}<extra></extra>",
         "legendgroup": "myclimate",
         "marker": {
          "color": "#1F77B4",
          "size": 10,
          "symbol": "x"
         },
         "mode": "markers",
         "name": "myclimate",
         "orientation": "v",
         "showlegend": true,
         "type": "scatter",
         "x": [
          "myclimate"
         ],
         "xaxis": "x",
         "y": [
          0.65
         ],
         "yaxis": "y"
        },
        {
         "hovertemplate": "Emission Offsetter=%{x}<br>Emission=%{y}<extra></extra>",
         "legendgroup": "atmosfair",
         "marker": {
          "color": "#FF7F0E",
          "size": 10,
          "symbol": "x"
         },
         "mode": "markers",
         "name": "atmosfair",
         "orientation": "v",
         "showlegend": true,
         "type": "scatter",
         "x": [
          "atmosfair",
          "atmosfair",
          "atmosfair",
          "atmosfair"
         ],
         "xaxis": "x",
         "y": [
          0.537,
          0.564,
          0.564,
          0.669
         ],
         "yaxis": "y"
        },
        {
         "hovertemplate": "Emission Offsetter=%{x}<br>Emission=%{y}<extra></extra>",
         "legendgroup": "Google Flights",
         "marker": {
          "color": "#D62728",
          "size": 10,
          "symbol": "x"
         },
         "mode": "markers",
         "name": "Google Flights",
         "orientation": "v",
         "showlegend": true,
         "type": "scatter",
         "x": [
          "Google Flights",
          "Google Flights",
          "Google Flights",
          "Google Flights",
          "Google Flights",
          "Google Flights",
          "Google Flights",
          "Google Flights",
          "Google Flights",
          "Google Flights",
          "Google Flights",
          "Google Flights",
          "Google Flights",
          "Google Flights",
          "Google Flights",
          "Google Flights",
          "Google Flights",
          "Google Flights",
          "Google Flights",
          "Google Flights",
          "Google Flights",
          "Google Flights",
          "Google Flights",
          "Google Flights",
          "Google Flights",
          "Google Flights",
          "Google Flights"
         ],
         "xaxis": "x",
         "y": [
          0.21,
          0.258,
          0.27,
          0.274,
          0.276,
          0.278,
          0.28,
          0.294,
          0.304,
          0.334,
          0.336,
          0.338,
          0.17,
          0.176,
          0.179,
          0.36,
          0.374,
          0.388,
          0.39,
          0.432,
          0.45,
          0.46,
          0.472,
          0.494,
          0.526,
          0.554,
          0.556
         ],
         "yaxis": "y"
        },
        {
         "hovertemplate": "Emission Offsetter=%{x}<br>Emission=%{y}<extra></extra>",
         "legendgroup": "ICAO",
         "marker": {
          "color": "#9467BD",
          "size": 10,
          "symbol": "x"
         },
         "mode": "markers",
         "name": "ICAO",
         "orientation": "v",
         "showlegend": true,
         "type": "scatter",
         "x": [
          "ICAO"
         ],
         "xaxis": "x",
         "y": [
          0.3076
         ],
         "yaxis": "y"
        }
       ],
       "layout": {
        "height": 500,
        "legend": {
         "title": {
          "text": "Emission Offsetter"
         },
         "tracegroupgap": 0
        },
        "margin": {
         "t": 60
        },
        "showlegend": false,
        "template": {
         "data": {
          "bar": [
           {
            "error_x": {
             "color": "#2a3f5f"
            },
            "error_y": {
             "color": "#2a3f5f"
            },
            "marker": {
             "line": {
              "color": "#E5ECF6",
              "width": 0.5
             },
             "pattern": {
              "fillmode": "overlay",
              "size": 10,
              "solidity": 0.2
             }
            },
            "type": "bar"
           }
          ],
          "barpolar": [
           {
            "marker": {
             "line": {
              "color": "#E5ECF6",
              "width": 0.5
             },
             "pattern": {
              "fillmode": "overlay",
              "size": 10,
              "solidity": 0.2
             }
            },
            "type": "barpolar"
           }
          ],
          "carpet": [
           {
            "aaxis": {
             "endlinecolor": "#2a3f5f",
             "gridcolor": "white",
             "linecolor": "white",
             "minorgridcolor": "white",
             "startlinecolor": "#2a3f5f"
            },
            "baxis": {
             "endlinecolor": "#2a3f5f",
             "gridcolor": "white",
             "linecolor": "white",
             "minorgridcolor": "white",
             "startlinecolor": "#2a3f5f"
            },
            "type": "carpet"
           }
          ],
          "choropleth": [
           {
            "colorbar": {
             "outlinewidth": 0,
             "ticks": ""
            },
            "type": "choropleth"
           }
          ],
          "contour": [
           {
            "colorbar": {
             "outlinewidth": 0,
             "ticks": ""
            },
            "colorscale": [
             [
              0,
              "#0d0887"
             ],
             [
              0.1111111111111111,
              "#46039f"
             ],
             [
              0.2222222222222222,
              "#7201a8"
             ],
             [
              0.3333333333333333,
              "#9c179e"
             ],
             [
              0.4444444444444444,
              "#bd3786"
             ],
             [
              0.5555555555555556,
              "#d8576b"
             ],
             [
              0.6666666666666666,
              "#ed7953"
             ],
             [
              0.7777777777777778,
              "#fb9f3a"
             ],
             [
              0.8888888888888888,
              "#fdca26"
             ],
             [
              1,
              "#f0f921"
             ]
            ],
            "type": "contour"
           }
          ],
          "contourcarpet": [
           {
            "colorbar": {
             "outlinewidth": 0,
             "ticks": ""
            },
            "type": "contourcarpet"
           }
          ],
          "heatmap": [
           {
            "colorbar": {
             "outlinewidth": 0,
             "ticks": ""
            },
            "colorscale": [
             [
              0,
              "#0d0887"
             ],
             [
              0.1111111111111111,
              "#46039f"
             ],
             [
              0.2222222222222222,
              "#7201a8"
             ],
             [
              0.3333333333333333,
              "#9c179e"
             ],
             [
              0.4444444444444444,
              "#bd3786"
             ],
             [
              0.5555555555555556,
              "#d8576b"
             ],
             [
              0.6666666666666666,
              "#ed7953"
             ],
             [
              0.7777777777777778,
              "#fb9f3a"
             ],
             [
              0.8888888888888888,
              "#fdca26"
             ],
             [
              1,
              "#f0f921"
             ]
            ],
            "type": "heatmap"
           }
          ],
          "heatmapgl": [
           {
            "colorbar": {
             "outlinewidth": 0,
             "ticks": ""
            },
            "colorscale": [
             [
              0,
              "#0d0887"
             ],
             [
              0.1111111111111111,
              "#46039f"
             ],
             [
              0.2222222222222222,
              "#7201a8"
             ],
             [
              0.3333333333333333,
              "#9c179e"
             ],
             [
              0.4444444444444444,
              "#bd3786"
             ],
             [
              0.5555555555555556,
              "#d8576b"
             ],
             [
              0.6666666666666666,
              "#ed7953"
             ],
             [
              0.7777777777777778,
              "#fb9f3a"
             ],
             [
              0.8888888888888888,
              "#fdca26"
             ],
             [
              1,
              "#f0f921"
             ]
            ],
            "type": "heatmapgl"
           }
          ],
          "histogram": [
           {
            "marker": {
             "pattern": {
              "fillmode": "overlay",
              "size": 10,
              "solidity": 0.2
             }
            },
            "type": "histogram"
           }
          ],
          "histogram2d": [
           {
            "colorbar": {
             "outlinewidth": 0,
             "ticks": ""
            },
            "colorscale": [
             [
              0,
              "#0d0887"
             ],
             [
              0.1111111111111111,
              "#46039f"
             ],
             [
              0.2222222222222222,
              "#7201a8"
             ],
             [
              0.3333333333333333,
              "#9c179e"
             ],
             [
              0.4444444444444444,
              "#bd3786"
             ],
             [
              0.5555555555555556,
              "#d8576b"
             ],
             [
              0.6666666666666666,
              "#ed7953"
             ],
             [
              0.7777777777777778,
              "#fb9f3a"
             ],
             [
              0.8888888888888888,
              "#fdca26"
             ],
             [
              1,
              "#f0f921"
             ]
            ],
            "type": "histogram2d"
           }
          ],
          "histogram2dcontour": [
           {
            "colorbar": {
             "outlinewidth": 0,
             "ticks": ""
            },
            "colorscale": [
             [
              0,
              "#0d0887"
             ],
             [
              0.1111111111111111,
              "#46039f"
             ],
             [
              0.2222222222222222,
              "#7201a8"
             ],
             [
              0.3333333333333333,
              "#9c179e"
             ],
             [
              0.4444444444444444,
              "#bd3786"
             ],
             [
              0.5555555555555556,
              "#d8576b"
             ],
             [
              0.6666666666666666,
              "#ed7953"
             ],
             [
              0.7777777777777778,
              "#fb9f3a"
             ],
             [
              0.8888888888888888,
              "#fdca26"
             ],
             [
              1,
              "#f0f921"
             ]
            ],
            "type": "histogram2dcontour"
           }
          ],
          "mesh3d": [
           {
            "colorbar": {
             "outlinewidth": 0,
             "ticks": ""
            },
            "type": "mesh3d"
           }
          ],
          "parcoords": [
           {
            "line": {
             "colorbar": {
              "outlinewidth": 0,
              "ticks": ""
             }
            },
            "type": "parcoords"
           }
          ],
          "pie": [
           {
            "automargin": true,
            "type": "pie"
           }
          ],
          "scatter": [
           {
            "fillpattern": {
             "fillmode": "overlay",
             "size": 10,
             "solidity": 0.2
            },
            "type": "scatter"
           }
          ],
          "scatter3d": [
           {
            "line": {
             "colorbar": {
              "outlinewidth": 0,
              "ticks": ""
             }
            },
            "marker": {
             "colorbar": {
              "outlinewidth": 0,
              "ticks": ""
             }
            },
            "type": "scatter3d"
           }
          ],
          "scattercarpet": [
           {
            "marker": {
             "colorbar": {
              "outlinewidth": 0,
              "ticks": ""
             }
            },
            "type": "scattercarpet"
           }
          ],
          "scattergeo": [
           {
            "marker": {
             "colorbar": {
              "outlinewidth": 0,
              "ticks": ""
             }
            },
            "type": "scattergeo"
           }
          ],
          "scattergl": [
           {
            "marker": {
             "colorbar": {
              "outlinewidth": 0,
              "ticks": ""
             }
            },
            "type": "scattergl"
           }
          ],
          "scattermapbox": [
           {
            "marker": {
             "colorbar": {
              "outlinewidth": 0,
              "ticks": ""
             }
            },
            "type": "scattermapbox"
           }
          ],
          "scatterpolar": [
           {
            "marker": {
             "colorbar": {
              "outlinewidth": 0,
              "ticks": ""
             }
            },
            "type": "scatterpolar"
           }
          ],
          "scatterpolargl": [
           {
            "marker": {
             "colorbar": {
              "outlinewidth": 0,
              "ticks": ""
             }
            },
            "type": "scatterpolargl"
           }
          ],
          "scatterternary": [
           {
            "marker": {
             "colorbar": {
              "outlinewidth": 0,
              "ticks": ""
             }
            },
            "type": "scatterternary"
           }
          ],
          "surface": [
           {
            "colorbar": {
             "outlinewidth": 0,
             "ticks": ""
            },
            "colorscale": [
             [
              0,
              "#0d0887"
             ],
             [
              0.1111111111111111,
              "#46039f"
             ],
             [
              0.2222222222222222,
              "#7201a8"
             ],
             [
              0.3333333333333333,
              "#9c179e"
             ],
             [
              0.4444444444444444,
              "#bd3786"
             ],
             [
              0.5555555555555556,
              "#d8576b"
             ],
             [
              0.6666666666666666,
              "#ed7953"
             ],
             [
              0.7777777777777778,
              "#fb9f3a"
             ],
             [
              0.8888888888888888,
              "#fdca26"
             ],
             [
              1,
              "#f0f921"
             ]
            ],
            "type": "surface"
           }
          ],
          "table": [
           {
            "cells": {
             "fill": {
              "color": "#EBF0F8"
             },
             "line": {
              "color": "white"
             }
            },
            "header": {
             "fill": {
              "color": "#C8D4E3"
             },
             "line": {
              "color": "white"
             }
            },
            "type": "table"
           }
          ]
         },
         "layout": {
          "annotationdefaults": {
           "arrowcolor": "#2a3f5f",
           "arrowhead": 0,
           "arrowwidth": 1
          },
          "autotypenumbers": "strict",
          "coloraxis": {
           "colorbar": {
            "outlinewidth": 0,
            "ticks": ""
           }
          },
          "colorscale": {
           "diverging": [
            [
             0,
             "#8e0152"
            ],
            [
             0.1,
             "#c51b7d"
            ],
            [
             0.2,
             "#de77ae"
            ],
            [
             0.3,
             "#f1b6da"
            ],
            [
             0.4,
             "#fde0ef"
            ],
            [
             0.5,
             "#f7f7f7"
            ],
            [
             0.6,
             "#e6f5d0"
            ],
            [
             0.7,
             "#b8e186"
            ],
            [
             0.8,
             "#7fbc41"
            ],
            [
             0.9,
             "#4d9221"
            ],
            [
             1,
             "#276419"
            ]
           ],
           "sequential": [
            [
             0,
             "#0d0887"
            ],
            [
             0.1111111111111111,
             "#46039f"
            ],
            [
             0.2222222222222222,
             "#7201a8"
            ],
            [
             0.3333333333333333,
             "#9c179e"
            ],
            [
             0.4444444444444444,
             "#bd3786"
            ],
            [
             0.5555555555555556,
             "#d8576b"
            ],
            [
             0.6666666666666666,
             "#ed7953"
            ],
            [
             0.7777777777777778,
             "#fb9f3a"
            ],
            [
             0.8888888888888888,
             "#fdca26"
            ],
            [
             1,
             "#f0f921"
            ]
           ],
           "sequentialminus": [
            [
             0,
             "#0d0887"
            ],
            [
             0.1111111111111111,
             "#46039f"
            ],
            [
             0.2222222222222222,
             "#7201a8"
            ],
            [
             0.3333333333333333,
             "#9c179e"
            ],
            [
             0.4444444444444444,
             "#bd3786"
            ],
            [
             0.5555555555555556,
             "#d8576b"
            ],
            [
             0.6666666666666666,
             "#ed7953"
            ],
            [
             0.7777777777777778,
             "#fb9f3a"
            ],
            [
             0.8888888888888888,
             "#fdca26"
            ],
            [
             1,
             "#f0f921"
            ]
           ]
          },
          "colorway": [
           "#636efa",
           "#EF553B",
           "#00cc96",
           "#ab63fa",
           "#FFA15A",
           "#19d3f3",
           "#FF6692",
           "#B6E880",
           "#FF97FF",
           "#FECB52"
          ],
          "font": {
           "color": "#2a3f5f"
          },
          "geo": {
           "bgcolor": "white",
           "lakecolor": "white",
           "landcolor": "#E5ECF6",
           "showlakes": true,
           "showland": true,
           "subunitcolor": "white"
          },
          "hoverlabel": {
           "align": "left"
          },
          "hovermode": "closest",
          "mapbox": {
           "style": "light"
          },
          "paper_bgcolor": "white",
          "plot_bgcolor": "#E5ECF6",
          "polar": {
           "angularaxis": {
            "gridcolor": "white",
            "linecolor": "white",
            "ticks": ""
           },
           "bgcolor": "#E5ECF6",
           "radialaxis": {
            "gridcolor": "white",
            "linecolor": "white",
            "ticks": ""
           }
          },
          "scene": {
           "xaxis": {
            "backgroundcolor": "#E5ECF6",
            "gridcolor": "white",
            "gridwidth": 2,
            "linecolor": "white",
            "showbackground": true,
            "ticks": "",
            "zerolinecolor": "white"
           },
           "yaxis": {
            "backgroundcolor": "#E5ECF6",
            "gridcolor": "white",
            "gridwidth": 2,
            "linecolor": "white",
            "showbackground": true,
            "ticks": "",
            "zerolinecolor": "white"
           },
           "zaxis": {
            "backgroundcolor": "#E5ECF6",
            "gridcolor": "white",
            "gridwidth": 2,
            "linecolor": "white",
            "showbackground": true,
            "ticks": "",
            "zerolinecolor": "white"
           }
          },
          "shapedefaults": {
           "line": {
            "color": "#2a3f5f"
           }
          },
          "ternary": {
           "aaxis": {
            "gridcolor": "white",
            "linecolor": "white",
            "ticks": ""
           },
           "baxis": {
            "gridcolor": "white",
            "linecolor": "white",
            "ticks": ""
           },
           "bgcolor": "#E5ECF6",
           "caxis": {
            "gridcolor": "white",
            "linecolor": "white",
            "ticks": ""
           }
          },
          "title": {
           "x": 0.05
          },
          "xaxis": {
           "automargin": true,
           "gridcolor": "white",
           "linecolor": "white",
           "ticks": "",
           "title": {
            "standoff": 15
           },
           "zerolinecolor": "white",
           "zerolinewidth": 2
          },
          "yaxis": {
           "automargin": true,
           "gridcolor": "white",
           "linecolor": "white",
           "ticks": "",
           "title": {
            "standoff": 15
           },
           "zerolinecolor": "white",
           "zerolinewidth": 2
          }
         }
        },
        "title": {
         "text": "Emission Estimations for a Medium Range Flight: Miami - New York (MIA - LGA), 1,800 km",
         "x": 0.5
        },
        "width": 1000,
        "xaxis": {
         "anchor": "y",
         "categoryarray": [
          "disCarbon",
          "myclimate",
          "atmosfair",
          "Google Flights",
          "ICAO"
         ],
         "categoryorder": "array",
         "domain": [
          0,
          1
         ],
         "title": {
          "text": "Emission Offsetter"
         }
        },
        "yaxis": {
         "anchor": "x",
         "domain": [
          0,
          1
         ],
         "range": [
          0,
          0.8
         ],
         "title": {
          "text": "Emissions, tCO<sub>2</sub>"
         }
        }
       }
      }
     },
     "metadata": {},
     "output_type": "display_data"
    }
   ],
   "source": [
    "fig = px.scatter(emissions_range.query(\"Range=='Medium'\"), x=\"Emission Offsetter\", y=\"Emission\", color=\"Emission Offsetter\", color_discrete_sequence=color_sequence)\n",
    "fig.update_yaxes(range=[0, 0.8])\n",
    "fig.update_layout(\n",
    "    title=\"Emission Estimations for a Medium Range Flight: Miami - New York (MIA - LGA), 1,800 km\",\n",
    "    title_x=0.5,\n",
    "    yaxis_title=\"Emissions, tCO<sub>2</sub>\",\n",
    "    showlegend=False,\n",
    "    height=500, width=1000\n",
    ")\n",
    "fig.update_traces(marker_symbol='x', marker_size=10)\n",
    "fig.show()"
   ]
  },
  {
   "cell_type": "code",
   "execution_count": 5,
   "metadata": {},
   "outputs": [
    {
     "data": {
      "application/vnd.plotly.v1+json": {
       "config": {
        "plotlyServerURL": "https://plot.ly"
       },
       "data": [
        {
         "hovertemplate": "Emission Offsetter=%{x}<br>Emission=%{y}<extra></extra>",
         "legendgroup": "disCarbon",
         "marker": {
          "color": "#2CA02C",
          "size": 10,
          "symbol": "x"
         },
         "mode": "markers",
         "name": "disCarbon",
         "orientation": "v",
         "showlegend": true,
         "type": "scatter",
         "x": [
          "disCarbon"
         ],
         "xaxis": "x",
         "y": [
          3.322
         ],
         "yaxis": "y"
        },
        {
         "hovertemplate": "Emission Offsetter=%{x}<br>Emission=%{y}<extra></extra>",
         "legendgroup": "myclimate",
         "marker": {
          "color": "#1F77B4",
          "size": 10,
          "symbol": "x"
         },
         "mode": "markers",
         "name": "myclimate",
         "orientation": "v",
         "showlegend": true,
         "type": "scatter",
         "x": [
          "myclimate"
         ],
         "xaxis": "x",
         "y": [
          3.4
         ],
         "yaxis": "y"
        },
        {
         "hovertemplate": "Emission Offsetter=%{x}<br>Emission=%{y}<extra></extra>",
         "legendgroup": "atmosfair",
         "marker": {
          "color": "#FF7F0E",
          "size": 10,
          "symbol": "x"
         },
         "mode": "markers",
         "name": "atmosfair",
         "orientation": "v",
         "showlegend": true,
         "type": "scatter",
         "x": [
          "atmosfair"
         ],
         "xaxis": "x",
         "y": [
          5.84
         ],
         "yaxis": "y"
        },
        {
         "hovertemplate": "Emission Offsetter=%{x}<br>Emission=%{y}<extra></extra>",
         "legendgroup": "Google Flights",
         "marker": {
          "color": "#D62728",
          "size": 10,
          "symbol": "x"
         },
         "mode": "markers",
         "name": "Google Flights",
         "orientation": "v",
         "showlegend": true,
         "type": "scatter",
         "x": [
          "Google Flights",
          "Google Flights",
          "Google Flights",
          "Google Flights",
          "Google Flights",
          "Google Flights",
          "Google Flights",
          "Google Flights",
          "Google Flights",
          "Google Flights",
          "Google Flights"
         ],
         "xaxis": "x",
         "y": [
          1.056,
          1.066,
          1.132,
          1.132,
          1.176,
          1.194,
          1.21,
          1.368,
          1.552,
          1.684,
          1.786
         ],
         "yaxis": "y"
        },
        {
         "hovertemplate": "Emission Offsetter=%{x}<br>Emission=%{y}<extra></extra>",
         "legendgroup": "ICAO",
         "marker": {
          "color": "#9467BD",
          "size": 10,
          "symbol": "x"
         },
         "mode": "markers",
         "name": "ICAO",
         "orientation": "v",
         "showlegend": true,
         "type": "scatter",
         "x": [
          "ICAO"
         ],
         "xaxis": "x",
         "y": [
          0.907
         ],
         "yaxis": "y"
        }
       ],
       "layout": {
        "height": 500,
        "legend": {
         "title": {
          "text": "Emission Offsetter"
         },
         "tracegroupgap": 0
        },
        "margin": {
         "t": 60
        },
        "showlegend": false,
        "template": {
         "data": {
          "bar": [
           {
            "error_x": {
             "color": "#2a3f5f"
            },
            "error_y": {
             "color": "#2a3f5f"
            },
            "marker": {
             "line": {
              "color": "#E5ECF6",
              "width": 0.5
             },
             "pattern": {
              "fillmode": "overlay",
              "size": 10,
              "solidity": 0.2
             }
            },
            "type": "bar"
           }
          ],
          "barpolar": [
           {
            "marker": {
             "line": {
              "color": "#E5ECF6",
              "width": 0.5
             },
             "pattern": {
              "fillmode": "overlay",
              "size": 10,
              "solidity": 0.2
             }
            },
            "type": "barpolar"
           }
          ],
          "carpet": [
           {
            "aaxis": {
             "endlinecolor": "#2a3f5f",
             "gridcolor": "white",
             "linecolor": "white",
             "minorgridcolor": "white",
             "startlinecolor": "#2a3f5f"
            },
            "baxis": {
             "endlinecolor": "#2a3f5f",
             "gridcolor": "white",
             "linecolor": "white",
             "minorgridcolor": "white",
             "startlinecolor": "#2a3f5f"
            },
            "type": "carpet"
           }
          ],
          "choropleth": [
           {
            "colorbar": {
             "outlinewidth": 0,
             "ticks": ""
            },
            "type": "choropleth"
           }
          ],
          "contour": [
           {
            "colorbar": {
             "outlinewidth": 0,
             "ticks": ""
            },
            "colorscale": [
             [
              0,
              "#0d0887"
             ],
             [
              0.1111111111111111,
              "#46039f"
             ],
             [
              0.2222222222222222,
              "#7201a8"
             ],
             [
              0.3333333333333333,
              "#9c179e"
             ],
             [
              0.4444444444444444,
              "#bd3786"
             ],
             [
              0.5555555555555556,
              "#d8576b"
             ],
             [
              0.6666666666666666,
              "#ed7953"
             ],
             [
              0.7777777777777778,
              "#fb9f3a"
             ],
             [
              0.8888888888888888,
              "#fdca26"
             ],
             [
              1,
              "#f0f921"
             ]
            ],
            "type": "contour"
           }
          ],
          "contourcarpet": [
           {
            "colorbar": {
             "outlinewidth": 0,
             "ticks": ""
            },
            "type": "contourcarpet"
           }
          ],
          "heatmap": [
           {
            "colorbar": {
             "outlinewidth": 0,
             "ticks": ""
            },
            "colorscale": [
             [
              0,
              "#0d0887"
             ],
             [
              0.1111111111111111,
              "#46039f"
             ],
             [
              0.2222222222222222,
              "#7201a8"
             ],
             [
              0.3333333333333333,
              "#9c179e"
             ],
             [
              0.4444444444444444,
              "#bd3786"
             ],
             [
              0.5555555555555556,
              "#d8576b"
             ],
             [
              0.6666666666666666,
              "#ed7953"
             ],
             [
              0.7777777777777778,
              "#fb9f3a"
             ],
             [
              0.8888888888888888,
              "#fdca26"
             ],
             [
              1,
              "#f0f921"
             ]
            ],
            "type": "heatmap"
           }
          ],
          "heatmapgl": [
           {
            "colorbar": {
             "outlinewidth": 0,
             "ticks": ""
            },
            "colorscale": [
             [
              0,
              "#0d0887"
             ],
             [
              0.1111111111111111,
              "#46039f"
             ],
             [
              0.2222222222222222,
              "#7201a8"
             ],
             [
              0.3333333333333333,
              "#9c179e"
             ],
             [
              0.4444444444444444,
              "#bd3786"
             ],
             [
              0.5555555555555556,
              "#d8576b"
             ],
             [
              0.6666666666666666,
              "#ed7953"
             ],
             [
              0.7777777777777778,
              "#fb9f3a"
             ],
             [
              0.8888888888888888,
              "#fdca26"
             ],
             [
              1,
              "#f0f921"
             ]
            ],
            "type": "heatmapgl"
           }
          ],
          "histogram": [
           {
            "marker": {
             "pattern": {
              "fillmode": "overlay",
              "size": 10,
              "solidity": 0.2
             }
            },
            "type": "histogram"
           }
          ],
          "histogram2d": [
           {
            "colorbar": {
             "outlinewidth": 0,
             "ticks": ""
            },
            "colorscale": [
             [
              0,
              "#0d0887"
             ],
             [
              0.1111111111111111,
              "#46039f"
             ],
             [
              0.2222222222222222,
              "#7201a8"
             ],
             [
              0.3333333333333333,
              "#9c179e"
             ],
             [
              0.4444444444444444,
              "#bd3786"
             ],
             [
              0.5555555555555556,
              "#d8576b"
             ],
             [
              0.6666666666666666,
              "#ed7953"
             ],
             [
              0.7777777777777778,
              "#fb9f3a"
             ],
             [
              0.8888888888888888,
              "#fdca26"
             ],
             [
              1,
              "#f0f921"
             ]
            ],
            "type": "histogram2d"
           }
          ],
          "histogram2dcontour": [
           {
            "colorbar": {
             "outlinewidth": 0,
             "ticks": ""
            },
            "colorscale": [
             [
              0,
              "#0d0887"
             ],
             [
              0.1111111111111111,
              "#46039f"
             ],
             [
              0.2222222222222222,
              "#7201a8"
             ],
             [
              0.3333333333333333,
              "#9c179e"
             ],
             [
              0.4444444444444444,
              "#bd3786"
             ],
             [
              0.5555555555555556,
              "#d8576b"
             ],
             [
              0.6666666666666666,
              "#ed7953"
             ],
             [
              0.7777777777777778,
              "#fb9f3a"
             ],
             [
              0.8888888888888888,
              "#fdca26"
             ],
             [
              1,
              "#f0f921"
             ]
            ],
            "type": "histogram2dcontour"
           }
          ],
          "mesh3d": [
           {
            "colorbar": {
             "outlinewidth": 0,
             "ticks": ""
            },
            "type": "mesh3d"
           }
          ],
          "parcoords": [
           {
            "line": {
             "colorbar": {
              "outlinewidth": 0,
              "ticks": ""
             }
            },
            "type": "parcoords"
           }
          ],
          "pie": [
           {
            "automargin": true,
            "type": "pie"
           }
          ],
          "scatter": [
           {
            "fillpattern": {
             "fillmode": "overlay",
             "size": 10,
             "solidity": 0.2
            },
            "type": "scatter"
           }
          ],
          "scatter3d": [
           {
            "line": {
             "colorbar": {
              "outlinewidth": 0,
              "ticks": ""
             }
            },
            "marker": {
             "colorbar": {
              "outlinewidth": 0,
              "ticks": ""
             }
            },
            "type": "scatter3d"
           }
          ],
          "scattercarpet": [
           {
            "marker": {
             "colorbar": {
              "outlinewidth": 0,
              "ticks": ""
             }
            },
            "type": "scattercarpet"
           }
          ],
          "scattergeo": [
           {
            "marker": {
             "colorbar": {
              "outlinewidth": 0,
              "ticks": ""
             }
            },
            "type": "scattergeo"
           }
          ],
          "scattergl": [
           {
            "marker": {
             "colorbar": {
              "outlinewidth": 0,
              "ticks": ""
             }
            },
            "type": "scattergl"
           }
          ],
          "scattermapbox": [
           {
            "marker": {
             "colorbar": {
              "outlinewidth": 0,
              "ticks": ""
             }
            },
            "type": "scattermapbox"
           }
          ],
          "scatterpolar": [
           {
            "marker": {
             "colorbar": {
              "outlinewidth": 0,
              "ticks": ""
             }
            },
            "type": "scatterpolar"
           }
          ],
          "scatterpolargl": [
           {
            "marker": {
             "colorbar": {
              "outlinewidth": 0,
              "ticks": ""
             }
            },
            "type": "scatterpolargl"
           }
          ],
          "scatterternary": [
           {
            "marker": {
             "colorbar": {
              "outlinewidth": 0,
              "ticks": ""
             }
            },
            "type": "scatterternary"
           }
          ],
          "surface": [
           {
            "colorbar": {
             "outlinewidth": 0,
             "ticks": ""
            },
            "colorscale": [
             [
              0,
              "#0d0887"
             ],
             [
              0.1111111111111111,
              "#46039f"
             ],
             [
              0.2222222222222222,
              "#7201a8"
             ],
             [
              0.3333333333333333,
              "#9c179e"
             ],
             [
              0.4444444444444444,
              "#bd3786"
             ],
             [
              0.5555555555555556,
              "#d8576b"
             ],
             [
              0.6666666666666666,
              "#ed7953"
             ],
             [
              0.7777777777777778,
              "#fb9f3a"
             ],
             [
              0.8888888888888888,
              "#fdca26"
             ],
             [
              1,
              "#f0f921"
             ]
            ],
            "type": "surface"
           }
          ],
          "table": [
           {
            "cells": {
             "fill": {
              "color": "#EBF0F8"
             },
             "line": {
              "color": "white"
             }
            },
            "header": {
             "fill": {
              "color": "#C8D4E3"
             },
             "line": {
              "color": "white"
             }
            },
            "type": "table"
           }
          ]
         },
         "layout": {
          "annotationdefaults": {
           "arrowcolor": "#2a3f5f",
           "arrowhead": 0,
           "arrowwidth": 1
          },
          "autotypenumbers": "strict",
          "coloraxis": {
           "colorbar": {
            "outlinewidth": 0,
            "ticks": ""
           }
          },
          "colorscale": {
           "diverging": [
            [
             0,
             "#8e0152"
            ],
            [
             0.1,
             "#c51b7d"
            ],
            [
             0.2,
             "#de77ae"
            ],
            [
             0.3,
             "#f1b6da"
            ],
            [
             0.4,
             "#fde0ef"
            ],
            [
             0.5,
             "#f7f7f7"
            ],
            [
             0.6,
             "#e6f5d0"
            ],
            [
             0.7,
             "#b8e186"
            ],
            [
             0.8,
             "#7fbc41"
            ],
            [
             0.9,
             "#4d9221"
            ],
            [
             1,
             "#276419"
            ]
           ],
           "sequential": [
            [
             0,
             "#0d0887"
            ],
            [
             0.1111111111111111,
             "#46039f"
            ],
            [
             0.2222222222222222,
             "#7201a8"
            ],
            [
             0.3333333333333333,
             "#9c179e"
            ],
            [
             0.4444444444444444,
             "#bd3786"
            ],
            [
             0.5555555555555556,
             "#d8576b"
            ],
            [
             0.6666666666666666,
             "#ed7953"
            ],
            [
             0.7777777777777778,
             "#fb9f3a"
            ],
            [
             0.8888888888888888,
             "#fdca26"
            ],
            [
             1,
             "#f0f921"
            ]
           ],
           "sequentialminus": [
            [
             0,
             "#0d0887"
            ],
            [
             0.1111111111111111,
             "#46039f"
            ],
            [
             0.2222222222222222,
             "#7201a8"
            ],
            [
             0.3333333333333333,
             "#9c179e"
            ],
            [
             0.4444444444444444,
             "#bd3786"
            ],
            [
             0.5555555555555556,
             "#d8576b"
            ],
            [
             0.6666666666666666,
             "#ed7953"
            ],
            [
             0.7777777777777778,
             "#fb9f3a"
            ],
            [
             0.8888888888888888,
             "#fdca26"
            ],
            [
             1,
             "#f0f921"
            ]
           ]
          },
          "colorway": [
           "#636efa",
           "#EF553B",
           "#00cc96",
           "#ab63fa",
           "#FFA15A",
           "#19d3f3",
           "#FF6692",
           "#B6E880",
           "#FF97FF",
           "#FECB52"
          ],
          "font": {
           "color": "#2a3f5f"
          },
          "geo": {
           "bgcolor": "white",
           "lakecolor": "white",
           "landcolor": "#E5ECF6",
           "showlakes": true,
           "showland": true,
           "subunitcolor": "white"
          },
          "hoverlabel": {
           "align": "left"
          },
          "hovermode": "closest",
          "mapbox": {
           "style": "light"
          },
          "paper_bgcolor": "white",
          "plot_bgcolor": "#E5ECF6",
          "polar": {
           "angularaxis": {
            "gridcolor": "white",
            "linecolor": "white",
            "ticks": ""
           },
           "bgcolor": "#E5ECF6",
           "radialaxis": {
            "gridcolor": "white",
            "linecolor": "white",
            "ticks": ""
           }
          },
          "scene": {
           "xaxis": {
            "backgroundcolor": "#E5ECF6",
            "gridcolor": "white",
            "gridwidth": 2,
            "linecolor": "white",
            "showbackground": true,
            "ticks": "",
            "zerolinecolor": "white"
           },
           "yaxis": {
            "backgroundcolor": "#E5ECF6",
            "gridcolor": "white",
            "gridwidth": 2,
            "linecolor": "white",
            "showbackground": true,
            "ticks": "",
            "zerolinecolor": "white"
           },
           "zaxis": {
            "backgroundcolor": "#E5ECF6",
            "gridcolor": "white",
            "gridwidth": 2,
            "linecolor": "white",
            "showbackground": true,
            "ticks": "",
            "zerolinecolor": "white"
           }
          },
          "shapedefaults": {
           "line": {
            "color": "#2a3f5f"
           }
          },
          "ternary": {
           "aaxis": {
            "gridcolor": "white",
            "linecolor": "white",
            "ticks": ""
           },
           "baxis": {
            "gridcolor": "white",
            "linecolor": "white",
            "ticks": ""
           },
           "bgcolor": "#E5ECF6",
           "caxis": {
            "gridcolor": "white",
            "linecolor": "white",
            "ticks": ""
           }
          },
          "title": {
           "x": 0.05
          },
          "xaxis": {
           "automargin": true,
           "gridcolor": "white",
           "linecolor": "white",
           "ticks": "",
           "title": {
            "standoff": 15
           },
           "zerolinecolor": "white",
           "zerolinewidth": 2
          },
          "yaxis": {
           "automargin": true,
           "gridcolor": "white",
           "linecolor": "white",
           "ticks": "",
           "title": {
            "standoff": 15
           },
           "zerolinecolor": "white",
           "zerolinewidth": 2
          }
         }
        },
        "title": {
         "text": "Emission Estimations for a Long Range Flight: Zurich - Singapore (ZRH - SIN), 10,300 km",
         "x": 0.5
        },
        "width": 1000,
        "xaxis": {
         "anchor": "y",
         "categoryarray": [
          "disCarbon",
          "myclimate",
          "atmosfair",
          "Google Flights",
          "ICAO"
         ],
         "categoryorder": "array",
         "domain": [
          0,
          1
         ],
         "title": {
          "text": "Emission Offsetter"
         }
        },
        "yaxis": {
         "anchor": "x",
         "domain": [
          0,
          1
         ],
         "range": [
          0,
          8
         ],
         "title": {
          "text": "Emissions, tCO<sub>2</sub>"
         }
        }
       }
      }
     },
     "metadata": {},
     "output_type": "display_data"
    }
   ],
   "source": [
    "fig = px.scatter(emissions_range.query(\"Range=='Long'\"), x=\"Emission Offsetter\", y=\"Emission\", color=\"Emission Offsetter\", color_discrete_sequence=color_sequence)\n",
    "fig.update_yaxes(range=[0, 8.0])\n",
    "fig.update_layout(\n",
    "    title=\"Emission Estimations for a Long Range Flight: Zurich - Singapore (ZRH - SIN), 10,300 km\",\n",
    "    title_x=0.5,\n",
    "    yaxis_title=\"Emissions, tCO<sub>2</sub>\",\n",
    "    showlegend=False,\n",
    "    height=500, width=1000\n",
    ")\n",
    "fig.update_traces(marker_symbol='x', marker_size=10)\n",
    "fig.show()"
   ]
  },
  {
   "cell_type": "code",
   "execution_count": 6,
   "metadata": {},
   "outputs": [
    {
     "data": {
      "application/vnd.plotly.v1+json": {
       "config": {
        "plotlyServerURL": "https://plot.ly"
       },
       "data": [
        {
         "hovertemplate": "Emission Offsetter=%{x}<br>Range Label=Short: CJU-GMP, 450 km<br>Emission=%{y}<extra></extra>",
         "legendgroup": "disCarbon",
         "marker": {
          "color": "#2CA02C",
          "size": 10,
          "symbol": "x"
         },
         "mode": "markers",
         "name": "disCarbon",
         "orientation": "v",
         "showlegend": true,
         "type": "scatter",
         "x": [
          "disCarbon"
         ],
         "xaxis": "x",
         "y": [
          0.28
         ],
         "yaxis": "y"
        },
        {
         "hovertemplate": "Emission Offsetter=%{x}<br>Range Label=Medium: MIA-LGA, 1,800 km<br>Emission=%{y}<extra></extra>",
         "legendgroup": "disCarbon",
         "marker": {
          "color": "#2CA02C",
          "size": 10,
          "symbol": "x"
         },
         "mode": "markers",
         "name": "disCarbon",
         "orientation": "v",
         "showlegend": false,
         "type": "scatter",
         "x": [
          "disCarbon"
         ],
         "xaxis": "x2",
         "y": [
          0.65
         ],
         "yaxis": "y2"
        },
        {
         "hovertemplate": "Emission Offsetter=%{x}<br>Range Label=Long: ZRH-SIN, 10,300 km<br>Emission=%{y}<extra></extra>",
         "legendgroup": "disCarbon",
         "marker": {
          "color": "#2CA02C",
          "size": 10,
          "symbol": "x"
         },
         "mode": "markers",
         "name": "disCarbon",
         "orientation": "v",
         "showlegend": false,
         "type": "scatter",
         "x": [
          "disCarbon"
         ],
         "xaxis": "x3",
         "y": [
          3.322
         ],
         "yaxis": "y3"
        },
        {
         "hovertemplate": "Emission Offsetter=%{x}<br>Range Label=Short: CJU-GMP, 450 km<br>Emission=%{y}<extra></extra>",
         "legendgroup": "myclimate",
         "marker": {
          "color": "#1F77B4",
          "size": 10,
          "symbol": "x"
         },
         "mode": "markers",
         "name": "myclimate",
         "orientation": "v",
         "showlegend": true,
         "type": "scatter",
         "x": [
          "myclimate"
         ],
         "xaxis": "x",
         "y": [
          0.282
         ],
         "yaxis": "y"
        },
        {
         "hovertemplate": "Emission Offsetter=%{x}<br>Range Label=Medium: MIA-LGA, 1,800 km<br>Emission=%{y}<extra></extra>",
         "legendgroup": "myclimate",
         "marker": {
          "color": "#1F77B4",
          "size": 10,
          "symbol": "x"
         },
         "mode": "markers",
         "name": "myclimate",
         "orientation": "v",
         "showlegend": false,
         "type": "scatter",
         "x": [
          "myclimate"
         ],
         "xaxis": "x2",
         "y": [
          0.65
         ],
         "yaxis": "y2"
        },
        {
         "hovertemplate": "Emission Offsetter=%{x}<br>Range Label=Long: ZRH-SIN, 10,300 km<br>Emission=%{y}<extra></extra>",
         "legendgroup": "myclimate",
         "marker": {
          "color": "#1F77B4",
          "size": 10,
          "symbol": "x"
         },
         "mode": "markers",
         "name": "myclimate",
         "orientation": "v",
         "showlegend": false,
         "type": "scatter",
         "x": [
          "myclimate"
         ],
         "xaxis": "x3",
         "y": [
          3.4
         ],
         "yaxis": "y3"
        },
        {
         "hovertemplate": "Emission Offsetter=%{x}<br>Range Label=Short: CJU-GMP, 450 km<br>Emission=%{y}<extra></extra>",
         "legendgroup": "atmosfair",
         "marker": {
          "color": "#FF7F0E",
          "size": 10,
          "symbol": "x"
         },
         "mode": "markers",
         "name": "atmosfair",
         "orientation": "v",
         "showlegend": true,
         "type": "scatter",
         "x": [
          "atmosfair",
          "atmosfair",
          "atmosfair",
          "atmosfair"
         ],
         "xaxis": "x",
         "y": [
          0.153,
          0.2,
          0.207,
          0.206
         ],
         "yaxis": "y"
        },
        {
         "hovertemplate": "Emission Offsetter=%{x}<br>Range Label=Medium: MIA-LGA, 1,800 km<br>Emission=%{y}<extra></extra>",
         "legendgroup": "atmosfair",
         "marker": {
          "color": "#FF7F0E",
          "size": 10,
          "symbol": "x"
         },
         "mode": "markers",
         "name": "atmosfair",
         "orientation": "v",
         "showlegend": false,
         "type": "scatter",
         "x": [
          "atmosfair",
          "atmosfair",
          "atmosfair",
          "atmosfair"
         ],
         "xaxis": "x2",
         "y": [
          0.537,
          0.564,
          0.564,
          0.669
         ],
         "yaxis": "y2"
        },
        {
         "hovertemplate": "Emission Offsetter=%{x}<br>Range Label=Long: ZRH-SIN, 10,300 km<br>Emission=%{y}<extra></extra>",
         "legendgroup": "atmosfair",
         "marker": {
          "color": "#FF7F0E",
          "size": 10,
          "symbol": "x"
         },
         "mode": "markers",
         "name": "atmosfair",
         "orientation": "v",
         "showlegend": false,
         "type": "scatter",
         "x": [
          "atmosfair"
         ],
         "xaxis": "x3",
         "y": [
          5.84
         ],
         "yaxis": "y3"
        },
        {
         "hovertemplate": "Emission Offsetter=%{x}<br>Range Label=Short: CJU-GMP, 450 km<br>Emission=%{y}<extra></extra>",
         "legendgroup": "Google Flights",
         "marker": {
          "color": "#D62728",
          "size": 10,
          "symbol": "x"
         },
         "mode": "markers",
         "name": "Google Flights",
         "orientation": "v",
         "showlegend": true,
         "type": "scatter",
         "x": [
          "Google Flights",
          "Google Flights",
          "Google Flights",
          "Google Flights",
          "Google Flights",
          "Google Flights",
          "Google Flights",
          "Google Flights",
          "Google Flights",
          "Google Flights",
          "Google Flights"
         ],
         "xaxis": "x",
         "y": [
          0.096,
          0.1,
          0.102,
          0.106,
          0.112,
          0.116,
          0.118,
          0.122,
          0.124,
          0.126,
          0.144
         ],
         "yaxis": "y"
        },
        {
         "hovertemplate": "Emission Offsetter=%{x}<br>Range Label=Medium: MIA-LGA, 1,800 km<br>Emission=%{y}<extra></extra>",
         "legendgroup": "Google Flights",
         "marker": {
          "color": "#D62728",
          "size": 10,
          "symbol": "x"
         },
         "mode": "markers",
         "name": "Google Flights",
         "orientation": "v",
         "showlegend": false,
         "type": "scatter",
         "x": [
          "Google Flights",
          "Google Flights",
          "Google Flights",
          "Google Flights",
          "Google Flights",
          "Google Flights",
          "Google Flights",
          "Google Flights",
          "Google Flights",
          "Google Flights",
          "Google Flights",
          "Google Flights",
          "Google Flights",
          "Google Flights",
          "Google Flights",
          "Google Flights",
          "Google Flights",
          "Google Flights",
          "Google Flights",
          "Google Flights",
          "Google Flights",
          "Google Flights",
          "Google Flights",
          "Google Flights",
          "Google Flights",
          "Google Flights",
          "Google Flights"
         ],
         "xaxis": "x2",
         "y": [
          0.21,
          0.258,
          0.27,
          0.274,
          0.276,
          0.278,
          0.28,
          0.294,
          0.304,
          0.334,
          0.336,
          0.338,
          0.17,
          0.176,
          0.179,
          0.36,
          0.374,
          0.388,
          0.39,
          0.432,
          0.45,
          0.46,
          0.472,
          0.494,
          0.526,
          0.554,
          0.556
         ],
         "yaxis": "y2"
        },
        {
         "hovertemplate": "Emission Offsetter=%{x}<br>Range Label=Long: ZRH-SIN, 10,300 km<br>Emission=%{y}<extra></extra>",
         "legendgroup": "Google Flights",
         "marker": {
          "color": "#D62728",
          "size": 10,
          "symbol": "x"
         },
         "mode": "markers",
         "name": "Google Flights",
         "orientation": "v",
         "showlegend": false,
         "type": "scatter",
         "x": [
          "Google Flights",
          "Google Flights",
          "Google Flights",
          "Google Flights",
          "Google Flights",
          "Google Flights",
          "Google Flights",
          "Google Flights",
          "Google Flights",
          "Google Flights",
          "Google Flights"
         ],
         "xaxis": "x3",
         "y": [
          1.056,
          1.066,
          1.132,
          1.132,
          1.176,
          1.194,
          1.21,
          1.368,
          1.552,
          1.684,
          1.786
         ],
         "yaxis": "y3"
        },
        {
         "hovertemplate": "Emission Offsetter=%{x}<br>Range Label=Short: CJU-GMP, 450 km<br>Emission=%{y}<extra></extra>",
         "legendgroup": "ICAO",
         "marker": {
          "color": "#9467BD",
          "size": 10,
          "symbol": "x"
         },
         "mode": "markers",
         "name": "ICAO",
         "orientation": "v",
         "showlegend": true,
         "type": "scatter",
         "x": [
          "ICAO"
         ],
         "xaxis": "x",
         "y": [
          0.1068
         ],
         "yaxis": "y"
        },
        {
         "hovertemplate": "Emission Offsetter=%{x}<br>Range Label=Medium: MIA-LGA, 1,800 km<br>Emission=%{y}<extra></extra>",
         "legendgroup": "ICAO",
         "marker": {
          "color": "#9467BD",
          "size": 10,
          "symbol": "x"
         },
         "mode": "markers",
         "name": "ICAO",
         "orientation": "v",
         "showlegend": false,
         "type": "scatter",
         "x": [
          "ICAO"
         ],
         "xaxis": "x2",
         "y": [
          0.3076
         ],
         "yaxis": "y2"
        },
        {
         "hovertemplate": "Emission Offsetter=%{x}<br>Range Label=Long: ZRH-SIN, 10,300 km<br>Emission=%{y}<extra></extra>",
         "legendgroup": "ICAO",
         "marker": {
          "color": "#9467BD",
          "size": 10,
          "symbol": "x"
         },
         "mode": "markers",
         "name": "ICAO",
         "orientation": "v",
         "showlegend": false,
         "type": "scatter",
         "x": [
          "ICAO"
         ],
         "xaxis": "x3",
         "y": [
          0.907
         ],
         "yaxis": "y3"
        }
       ],
       "layout": {
        "annotations": [
         {
          "font": {},
          "showarrow": false,
          "text": "Short: CJU-GMP, 450 km",
          "x": 0.15999999999999998,
          "xanchor": "center",
          "xref": "paper",
          "y": 1,
          "yanchor": "bottom",
          "yref": "paper"
         },
         {
          "font": {},
          "showarrow": false,
          "text": "Medium: MIA-LGA, 1,800 km",
          "x": 0.49999999999999994,
          "xanchor": "center",
          "xref": "paper",
          "y": 1,
          "yanchor": "bottom",
          "yref": "paper"
         },
         {
          "font": {},
          "showarrow": false,
          "text": "Long: ZRH-SIN, 10,300 km",
          "x": 0.8399999999999999,
          "xanchor": "center",
          "xref": "paper",
          "y": 1,
          "yanchor": "bottom",
          "yref": "paper"
         }
        ],
        "height": 500,
        "legend": {
         "title": {
          "text": "Emission Offsetter"
         },
         "tracegroupgap": 0
        },
        "margin": {
         "t": 60
        },
        "showlegend": false,
        "template": {
         "data": {
          "bar": [
           {
            "error_x": {
             "color": "#2a3f5f"
            },
            "error_y": {
             "color": "#2a3f5f"
            },
            "marker": {
             "line": {
              "color": "#E5ECF6",
              "width": 0.5
             },
             "pattern": {
              "fillmode": "overlay",
              "size": 10,
              "solidity": 0.2
             }
            },
            "type": "bar"
           }
          ],
          "barpolar": [
           {
            "marker": {
             "line": {
              "color": "#E5ECF6",
              "width": 0.5
             },
             "pattern": {
              "fillmode": "overlay",
              "size": 10,
              "solidity": 0.2
             }
            },
            "type": "barpolar"
           }
          ],
          "carpet": [
           {
            "aaxis": {
             "endlinecolor": "#2a3f5f",
             "gridcolor": "white",
             "linecolor": "white",
             "minorgridcolor": "white",
             "startlinecolor": "#2a3f5f"
            },
            "baxis": {
             "endlinecolor": "#2a3f5f",
             "gridcolor": "white",
             "linecolor": "white",
             "minorgridcolor": "white",
             "startlinecolor": "#2a3f5f"
            },
            "type": "carpet"
           }
          ],
          "choropleth": [
           {
            "colorbar": {
             "outlinewidth": 0,
             "ticks": ""
            },
            "type": "choropleth"
           }
          ],
          "contour": [
           {
            "colorbar": {
             "outlinewidth": 0,
             "ticks": ""
            },
            "colorscale": [
             [
              0,
              "#0d0887"
             ],
             [
              0.1111111111111111,
              "#46039f"
             ],
             [
              0.2222222222222222,
              "#7201a8"
             ],
             [
              0.3333333333333333,
              "#9c179e"
             ],
             [
              0.4444444444444444,
              "#bd3786"
             ],
             [
              0.5555555555555556,
              "#d8576b"
             ],
             [
              0.6666666666666666,
              "#ed7953"
             ],
             [
              0.7777777777777778,
              "#fb9f3a"
             ],
             [
              0.8888888888888888,
              "#fdca26"
             ],
             [
              1,
              "#f0f921"
             ]
            ],
            "type": "contour"
           }
          ],
          "contourcarpet": [
           {
            "colorbar": {
             "outlinewidth": 0,
             "ticks": ""
            },
            "type": "contourcarpet"
           }
          ],
          "heatmap": [
           {
            "colorbar": {
             "outlinewidth": 0,
             "ticks": ""
            },
            "colorscale": [
             [
              0,
              "#0d0887"
             ],
             [
              0.1111111111111111,
              "#46039f"
             ],
             [
              0.2222222222222222,
              "#7201a8"
             ],
             [
              0.3333333333333333,
              "#9c179e"
             ],
             [
              0.4444444444444444,
              "#bd3786"
             ],
             [
              0.5555555555555556,
              "#d8576b"
             ],
             [
              0.6666666666666666,
              "#ed7953"
             ],
             [
              0.7777777777777778,
              "#fb9f3a"
             ],
             [
              0.8888888888888888,
              "#fdca26"
             ],
             [
              1,
              "#f0f921"
             ]
            ],
            "type": "heatmap"
           }
          ],
          "heatmapgl": [
           {
            "colorbar": {
             "outlinewidth": 0,
             "ticks": ""
            },
            "colorscale": [
             [
              0,
              "#0d0887"
             ],
             [
              0.1111111111111111,
              "#46039f"
             ],
             [
              0.2222222222222222,
              "#7201a8"
             ],
             [
              0.3333333333333333,
              "#9c179e"
             ],
             [
              0.4444444444444444,
              "#bd3786"
             ],
             [
              0.5555555555555556,
              "#d8576b"
             ],
             [
              0.6666666666666666,
              "#ed7953"
             ],
             [
              0.7777777777777778,
              "#fb9f3a"
             ],
             [
              0.8888888888888888,
              "#fdca26"
             ],
             [
              1,
              "#f0f921"
             ]
            ],
            "type": "heatmapgl"
           }
          ],
          "histogram": [
           {
            "marker": {
             "pattern": {
              "fillmode": "overlay",
              "size": 10,
              "solidity": 0.2
             }
            },
            "type": "histogram"
           }
          ],
          "histogram2d": [
           {
            "colorbar": {
             "outlinewidth": 0,
             "ticks": ""
            },
            "colorscale": [
             [
              0,
              "#0d0887"
             ],
             [
              0.1111111111111111,
              "#46039f"
             ],
             [
              0.2222222222222222,
              "#7201a8"
             ],
             [
              0.3333333333333333,
              "#9c179e"
             ],
             [
              0.4444444444444444,
              "#bd3786"
             ],
             [
              0.5555555555555556,
              "#d8576b"
             ],
             [
              0.6666666666666666,
              "#ed7953"
             ],
             [
              0.7777777777777778,
              "#fb9f3a"
             ],
             [
              0.8888888888888888,
              "#fdca26"
             ],
             [
              1,
              "#f0f921"
             ]
            ],
            "type": "histogram2d"
           }
          ],
          "histogram2dcontour": [
           {
            "colorbar": {
             "outlinewidth": 0,
             "ticks": ""
            },
            "colorscale": [
             [
              0,
              "#0d0887"
             ],
             [
              0.1111111111111111,
              "#46039f"
             ],
             [
              0.2222222222222222,
              "#7201a8"
             ],
             [
              0.3333333333333333,
              "#9c179e"
             ],
             [
              0.4444444444444444,
              "#bd3786"
             ],
             [
              0.5555555555555556,
              "#d8576b"
             ],
             [
              0.6666666666666666,
              "#ed7953"
             ],
             [
              0.7777777777777778,
              "#fb9f3a"
             ],
             [
              0.8888888888888888,
              "#fdca26"
             ],
             [
              1,
              "#f0f921"
             ]
            ],
            "type": "histogram2dcontour"
           }
          ],
          "mesh3d": [
           {
            "colorbar": {
             "outlinewidth": 0,
             "ticks": ""
            },
            "type": "mesh3d"
           }
          ],
          "parcoords": [
           {
            "line": {
             "colorbar": {
              "outlinewidth": 0,
              "ticks": ""
             }
            },
            "type": "parcoords"
           }
          ],
          "pie": [
           {
            "automargin": true,
            "type": "pie"
           }
          ],
          "scatter": [
           {
            "fillpattern": {
             "fillmode": "overlay",
             "size": 10,
             "solidity": 0.2
            },
            "type": "scatter"
           }
          ],
          "scatter3d": [
           {
            "line": {
             "colorbar": {
              "outlinewidth": 0,
              "ticks": ""
             }
            },
            "marker": {
             "colorbar": {
              "outlinewidth": 0,
              "ticks": ""
             }
            },
            "type": "scatter3d"
           }
          ],
          "scattercarpet": [
           {
            "marker": {
             "colorbar": {
              "outlinewidth": 0,
              "ticks": ""
             }
            },
            "type": "scattercarpet"
           }
          ],
          "scattergeo": [
           {
            "marker": {
             "colorbar": {
              "outlinewidth": 0,
              "ticks": ""
             }
            },
            "type": "scattergeo"
           }
          ],
          "scattergl": [
           {
            "marker": {
             "colorbar": {
              "outlinewidth": 0,
              "ticks": ""
             }
            },
            "type": "scattergl"
           }
          ],
          "scattermapbox": [
           {
            "marker": {
             "colorbar": {
              "outlinewidth": 0,
              "ticks": ""
             }
            },
            "type": "scattermapbox"
           }
          ],
          "scatterpolar": [
           {
            "marker": {
             "colorbar": {
              "outlinewidth": 0,
              "ticks": ""
             }
            },
            "type": "scatterpolar"
           }
          ],
          "scatterpolargl": [
           {
            "marker": {
             "colorbar": {
              "outlinewidth": 0,
              "ticks": ""
             }
            },
            "type": "scatterpolargl"
           }
          ],
          "scatterternary": [
           {
            "marker": {
             "colorbar": {
              "outlinewidth": 0,
              "ticks": ""
             }
            },
            "type": "scatterternary"
           }
          ],
          "surface": [
           {
            "colorbar": {
             "outlinewidth": 0,
             "ticks": ""
            },
            "colorscale": [
             [
              0,
              "#0d0887"
             ],
             [
              0.1111111111111111,
              "#46039f"
             ],
             [
              0.2222222222222222,
              "#7201a8"
             ],
             [
              0.3333333333333333,
              "#9c179e"
             ],
             [
              0.4444444444444444,
              "#bd3786"
             ],
             [
              0.5555555555555556,
              "#d8576b"
             ],
             [
              0.6666666666666666,
              "#ed7953"
             ],
             [
              0.7777777777777778,
              "#fb9f3a"
             ],
             [
              0.8888888888888888,
              "#fdca26"
             ],
             [
              1,
              "#f0f921"
             ]
            ],
            "type": "surface"
           }
          ],
          "table": [
           {
            "cells": {
             "fill": {
              "color": "#EBF0F8"
             },
             "line": {
              "color": "white"
             }
            },
            "header": {
             "fill": {
              "color": "#C8D4E3"
             },
             "line": {
              "color": "white"
             }
            },
            "type": "table"
           }
          ]
         },
         "layout": {
          "annotationdefaults": {
           "arrowcolor": "#2a3f5f",
           "arrowhead": 0,
           "arrowwidth": 1
          },
          "autotypenumbers": "strict",
          "coloraxis": {
           "colorbar": {
            "outlinewidth": 0,
            "ticks": ""
           }
          },
          "colorscale": {
           "diverging": [
            [
             0,
             "#8e0152"
            ],
            [
             0.1,
             "#c51b7d"
            ],
            [
             0.2,
             "#de77ae"
            ],
            [
             0.3,
             "#f1b6da"
            ],
            [
             0.4,
             "#fde0ef"
            ],
            [
             0.5,
             "#f7f7f7"
            ],
            [
             0.6,
             "#e6f5d0"
            ],
            [
             0.7,
             "#b8e186"
            ],
            [
             0.8,
             "#7fbc41"
            ],
            [
             0.9,
             "#4d9221"
            ],
            [
             1,
             "#276419"
            ]
           ],
           "sequential": [
            [
             0,
             "#0d0887"
            ],
            [
             0.1111111111111111,
             "#46039f"
            ],
            [
             0.2222222222222222,
             "#7201a8"
            ],
            [
             0.3333333333333333,
             "#9c179e"
            ],
            [
             0.4444444444444444,
             "#bd3786"
            ],
            [
             0.5555555555555556,
             "#d8576b"
            ],
            [
             0.6666666666666666,
             "#ed7953"
            ],
            [
             0.7777777777777778,
             "#fb9f3a"
            ],
            [
             0.8888888888888888,
             "#fdca26"
            ],
            [
             1,
             "#f0f921"
            ]
           ],
           "sequentialminus": [
            [
             0,
             "#0d0887"
            ],
            [
             0.1111111111111111,
             "#46039f"
            ],
            [
             0.2222222222222222,
             "#7201a8"
            ],
            [
             0.3333333333333333,
             "#9c179e"
            ],
            [
             0.4444444444444444,
             "#bd3786"
            ],
            [
             0.5555555555555556,
             "#d8576b"
            ],
            [
             0.6666666666666666,
             "#ed7953"
            ],
            [
             0.7777777777777778,
             "#fb9f3a"
            ],
            [
             0.8888888888888888,
             "#fdca26"
            ],
            [
             1,
             "#f0f921"
            ]
           ]
          },
          "colorway": [
           "#636efa",
           "#EF553B",
           "#00cc96",
           "#ab63fa",
           "#FFA15A",
           "#19d3f3",
           "#FF6692",
           "#B6E880",
           "#FF97FF",
           "#FECB52"
          ],
          "font": {
           "color": "#2a3f5f"
          },
          "geo": {
           "bgcolor": "white",
           "lakecolor": "white",
           "landcolor": "#E5ECF6",
           "showlakes": true,
           "showland": true,
           "subunitcolor": "white"
          },
          "hoverlabel": {
           "align": "left"
          },
          "hovermode": "closest",
          "mapbox": {
           "style": "light"
          },
          "paper_bgcolor": "white",
          "plot_bgcolor": "#E5ECF6",
          "polar": {
           "angularaxis": {
            "gridcolor": "white",
            "linecolor": "white",
            "ticks": ""
           },
           "bgcolor": "#E5ECF6",
           "radialaxis": {
            "gridcolor": "white",
            "linecolor": "white",
            "ticks": ""
           }
          },
          "scene": {
           "xaxis": {
            "backgroundcolor": "#E5ECF6",
            "gridcolor": "white",
            "gridwidth": 2,
            "linecolor": "white",
            "showbackground": true,
            "ticks": "",
            "zerolinecolor": "white"
           },
           "yaxis": {
            "backgroundcolor": "#E5ECF6",
            "gridcolor": "white",
            "gridwidth": 2,
            "linecolor": "white",
            "showbackground": true,
            "ticks": "",
            "zerolinecolor": "white"
           },
           "zaxis": {
            "backgroundcolor": "#E5ECF6",
            "gridcolor": "white",
            "gridwidth": 2,
            "linecolor": "white",
            "showbackground": true,
            "ticks": "",
            "zerolinecolor": "white"
           }
          },
          "shapedefaults": {
           "line": {
            "color": "#2a3f5f"
           }
          },
          "ternary": {
           "aaxis": {
            "gridcolor": "white",
            "linecolor": "white",
            "ticks": ""
           },
           "baxis": {
            "gridcolor": "white",
            "linecolor": "white",
            "ticks": ""
           },
           "bgcolor": "#E5ECF6",
           "caxis": {
            "gridcolor": "white",
            "linecolor": "white",
            "ticks": ""
           }
          },
          "title": {
           "x": 0.05
          },
          "xaxis": {
           "automargin": true,
           "gridcolor": "white",
           "linecolor": "white",
           "ticks": "",
           "title": {
            "standoff": 15
           },
           "zerolinecolor": "white",
           "zerolinewidth": 2
          },
          "yaxis": {
           "automargin": true,
           "gridcolor": "white",
           "linecolor": "white",
           "ticks": "",
           "title": {
            "standoff": 15
           },
           "zerolinecolor": "white",
           "zerolinewidth": 2
          }
         }
        },
        "title": {
         "text": "Comparison of Emission Estimations for Short, Medium and Long Range Flights",
         "x": 0.5
        },
        "width": 1000,
        "xaxis": {
         "anchor": "y",
         "categoryarray": [
          "disCarbon",
          "myclimate",
          "atmosfair",
          "Google Flights",
          "ICAO"
         ],
         "categoryorder": "array",
         "domain": [
          0,
          0.31999999999999995
         ],
         "title": {
          "text": ""
         }
        },
        "xaxis2": {
         "anchor": "y2",
         "categoryarray": [
          "disCarbon",
          "myclimate",
          "atmosfair",
          "Google Flights",
          "ICAO"
         ],
         "categoryorder": "array",
         "domain": [
          0.33999999999999997,
          0.6599999999999999
         ],
         "matches": "x",
         "title": {
          "text": ""
         }
        },
        "xaxis3": {
         "anchor": "y3",
         "categoryarray": [
          "disCarbon",
          "myclimate",
          "atmosfair",
          "Google Flights",
          "ICAO"
         ],
         "categoryorder": "array",
         "domain": [
          0.6799999999999999,
          0.9999999999999999
         ],
         "matches": "x",
         "title": {
          "text": ""
         }
        },
        "yaxis": {
         "anchor": "x",
         "domain": [
          0,
          1
         ],
         "range": [
          0,
          6
         ],
         "title": {
          "text": "Emissions, tCO<sub>2</sub>"
         }
        },
        "yaxis2": {
         "anchor": "x2",
         "domain": [
          0,
          1
         ],
         "matches": "y",
         "range": [
          0,
          6
         ],
         "showticklabels": false
        },
        "yaxis3": {
         "anchor": "x3",
         "domain": [
          0,
          1
         ],
         "matches": "y",
         "range": [
          0,
          6
         ],
         "showticklabels": false
        }
       }
      }
     },
     "metadata": {},
     "output_type": "display_data"
    }
   ],
   "source": [
    "\n",
    "fig = px.scatter(emissions_range, x=\"Emission Offsetter\", color=\"Emission Offsetter\", y=\"Emission\", facet_col=\"Range Label\", color_discrete_sequence=color_sequence)\n",
    "fig.update_yaxes(range=[0, 6.0])\n",
    "fig.update_layout(\n",
    "    title=\"Comparison of Emission Estimations for Short, Medium and Long Range Flights\",\n",
    "    title_x=0.5,\n",
    "    yaxis_title=\"Emissions, tCO<sub>2</sub>\",\n",
    "    showlegend=False,\n",
    "    height=500, width=1000\n",
    ")\n",
    "fig.update_traces(marker_symbol='x', marker_size=10)\n",
    "fig.for_each_annotation(lambda a: a.update(text=a.text.split(\"=\")[-1]))\n",
    "# Remove all xaxis_titles\n",
    "for axis in fig.layout:\n",
    "    if type(fig.layout[axis]) == go.layout.XAxis:\n",
    "        fig.layout[axis].title.text = ''\n",
    "fig.show()"
   ]
  },
  {
   "cell_type": "code",
   "execution_count": 7,
   "metadata": {},
   "outputs": [
    {
     "data": {
      "application/vnd.plotly.v1+json": {
       "config": {
        "plotlyServerURL": "https://plot.ly"
       },
       "data": [
        {
         "hovertemplate": "Emission Offsetter=%{x}<br>Range=Short<br>Emission=%{y}<extra></extra>",
         "legendgroup": "disCarbon, Short",
         "marker": {
          "color": "#2CA02C",
          "size": 10,
          "symbol": "x"
         },
         "mode": "markers",
         "name": "disCarbon, Short",
         "orientation": "v",
         "showlegend": true,
         "type": "scatter",
         "x": [
          "disCarbon"
         ],
         "xaxis": "x",
         "y": [
          0.28
         ],
         "yaxis": "y"
        },
        {
         "hovertemplate": "Emission Offsetter=%{x}<br>Range=Medium<br>Emission=%{y}<extra></extra>",
         "legendgroup": "disCarbon, Medium",
         "marker": {
          "color": "#2CA02C",
          "size": 10,
          "symbol": "circle"
         },
         "mode": "markers",
         "name": "disCarbon, Medium",
         "orientation": "v",
         "showlegend": true,
         "type": "scatter",
         "x": [
          "disCarbon"
         ],
         "xaxis": "x",
         "y": [
          0.65
         ],
         "yaxis": "y"
        },
        {
         "hovertemplate": "Emission Offsetter=%{x}<br>Range=Long<br>Emission=%{y}<extra></extra>",
         "legendgroup": "disCarbon, Long",
         "marker": {
          "color": "#2CA02C",
          "size": 10,
          "symbol": "square"
         },
         "mode": "markers",
         "name": "disCarbon, Long",
         "orientation": "v",
         "showlegend": true,
         "type": "scatter",
         "x": [
          "disCarbon"
         ],
         "xaxis": "x",
         "y": [
          3.322
         ],
         "yaxis": "y"
        },
        {
         "hovertemplate": "Emission Offsetter=%{x}<br>Range=Short<br>Emission=%{y}<extra></extra>",
         "legendgroup": "myclimate, Short",
         "marker": {
          "color": "#1F77B4",
          "size": 10,
          "symbol": "x"
         },
         "mode": "markers",
         "name": "myclimate, Short",
         "orientation": "v",
         "showlegend": true,
         "type": "scatter",
         "x": [
          "myclimate"
         ],
         "xaxis": "x",
         "y": [
          0.282
         ],
         "yaxis": "y"
        },
        {
         "hovertemplate": "Emission Offsetter=%{x}<br>Range=Medium<br>Emission=%{y}<extra></extra>",
         "legendgroup": "myclimate, Medium",
         "marker": {
          "color": "#1F77B4",
          "size": 10,
          "symbol": "circle"
         },
         "mode": "markers",
         "name": "myclimate, Medium",
         "orientation": "v",
         "showlegend": true,
         "type": "scatter",
         "x": [
          "myclimate"
         ],
         "xaxis": "x",
         "y": [
          0.65
         ],
         "yaxis": "y"
        },
        {
         "hovertemplate": "Emission Offsetter=%{x}<br>Range=Long<br>Emission=%{y}<extra></extra>",
         "legendgroup": "myclimate, Long",
         "marker": {
          "color": "#1F77B4",
          "size": 10,
          "symbol": "square"
         },
         "mode": "markers",
         "name": "myclimate, Long",
         "orientation": "v",
         "showlegend": true,
         "type": "scatter",
         "x": [
          "myclimate"
         ],
         "xaxis": "x",
         "y": [
          3.4
         ],
         "yaxis": "y"
        },
        {
         "hovertemplate": "Emission Offsetter=%{x}<br>Range=Short<br>Emission=%{y}<extra></extra>",
         "legendgroup": "atmosfair, Short",
         "marker": {
          "color": "#FF7F0E",
          "size": 10,
          "symbol": "x"
         },
         "mode": "markers",
         "name": "atmosfair, Short",
         "orientation": "v",
         "showlegend": true,
         "type": "scatter",
         "x": [
          "atmosfair",
          "atmosfair",
          "atmosfair",
          "atmosfair"
         ],
         "xaxis": "x",
         "y": [
          0.153,
          0.2,
          0.207,
          0.206
         ],
         "yaxis": "y"
        },
        {
         "hovertemplate": "Emission Offsetter=%{x}<br>Range=Medium<br>Emission=%{y}<extra></extra>",
         "legendgroup": "atmosfair, Medium",
         "marker": {
          "color": "#FF7F0E",
          "size": 10,
          "symbol": "circle"
         },
         "mode": "markers",
         "name": "atmosfair, Medium",
         "orientation": "v",
         "showlegend": true,
         "type": "scatter",
         "x": [
          "atmosfair",
          "atmosfair",
          "atmosfair",
          "atmosfair"
         ],
         "xaxis": "x",
         "y": [
          0.537,
          0.564,
          0.564,
          0.669
         ],
         "yaxis": "y"
        },
        {
         "hovertemplate": "Emission Offsetter=%{x}<br>Range=Long<br>Emission=%{y}<extra></extra>",
         "legendgroup": "atmosfair, Long",
         "marker": {
          "color": "#FF7F0E",
          "size": 10,
          "symbol": "square"
         },
         "mode": "markers",
         "name": "atmosfair, Long",
         "orientation": "v",
         "showlegend": true,
         "type": "scatter",
         "x": [
          "atmosfair"
         ],
         "xaxis": "x",
         "y": [
          5.84
         ],
         "yaxis": "y"
        },
        {
         "hovertemplate": "Emission Offsetter=%{x}<br>Range=Short<br>Emission=%{y}<extra></extra>",
         "legendgroup": "Google Flights, Short",
         "marker": {
          "color": "#D62728",
          "size": 10,
          "symbol": "x"
         },
         "mode": "markers",
         "name": "Google Flights, Short",
         "orientation": "v",
         "showlegend": true,
         "type": "scatter",
         "x": [
          "Google Flights",
          "Google Flights",
          "Google Flights",
          "Google Flights",
          "Google Flights",
          "Google Flights",
          "Google Flights",
          "Google Flights",
          "Google Flights",
          "Google Flights",
          "Google Flights"
         ],
         "xaxis": "x",
         "y": [
          0.096,
          0.1,
          0.102,
          0.106,
          0.112,
          0.116,
          0.118,
          0.122,
          0.124,
          0.126,
          0.144
         ],
         "yaxis": "y"
        },
        {
         "hovertemplate": "Emission Offsetter=%{x}<br>Range=Medium<br>Emission=%{y}<extra></extra>",
         "legendgroup": "Google Flights, Medium",
         "marker": {
          "color": "#D62728",
          "size": 10,
          "symbol": "circle"
         },
         "mode": "markers",
         "name": "Google Flights, Medium",
         "orientation": "v",
         "showlegend": true,
         "type": "scatter",
         "x": [
          "Google Flights",
          "Google Flights",
          "Google Flights",
          "Google Flights",
          "Google Flights",
          "Google Flights",
          "Google Flights",
          "Google Flights",
          "Google Flights",
          "Google Flights",
          "Google Flights",
          "Google Flights",
          "Google Flights",
          "Google Flights",
          "Google Flights",
          "Google Flights",
          "Google Flights",
          "Google Flights",
          "Google Flights",
          "Google Flights",
          "Google Flights",
          "Google Flights",
          "Google Flights",
          "Google Flights",
          "Google Flights",
          "Google Flights",
          "Google Flights"
         ],
         "xaxis": "x",
         "y": [
          0.21,
          0.258,
          0.27,
          0.274,
          0.276,
          0.278,
          0.28,
          0.294,
          0.304,
          0.334,
          0.336,
          0.338,
          0.17,
          0.176,
          0.179,
          0.36,
          0.374,
          0.388,
          0.39,
          0.432,
          0.45,
          0.46,
          0.472,
          0.494,
          0.526,
          0.554,
          0.556
         ],
         "yaxis": "y"
        },
        {
         "hovertemplate": "Emission Offsetter=%{x}<br>Range=Long<br>Emission=%{y}<extra></extra>",
         "legendgroup": "Google Flights, Long",
         "marker": {
          "color": "#D62728",
          "size": 10,
          "symbol": "square"
         },
         "mode": "markers",
         "name": "Google Flights, Long",
         "orientation": "v",
         "showlegend": true,
         "type": "scatter",
         "x": [
          "Google Flights",
          "Google Flights",
          "Google Flights",
          "Google Flights",
          "Google Flights",
          "Google Flights",
          "Google Flights",
          "Google Flights",
          "Google Flights",
          "Google Flights",
          "Google Flights"
         ],
         "xaxis": "x",
         "y": [
          1.056,
          1.066,
          1.132,
          1.132,
          1.176,
          1.194,
          1.21,
          1.368,
          1.552,
          1.684,
          1.786
         ],
         "yaxis": "y"
        },
        {
         "hovertemplate": "Emission Offsetter=%{x}<br>Range=Short<br>Emission=%{y}<extra></extra>",
         "legendgroup": "ICAO, Short",
         "marker": {
          "color": "#9467BD",
          "size": 10,
          "symbol": "x"
         },
         "mode": "markers",
         "name": "ICAO, Short",
         "orientation": "v",
         "showlegend": true,
         "type": "scatter",
         "x": [
          "ICAO"
         ],
         "xaxis": "x",
         "y": [
          0.1068
         ],
         "yaxis": "y"
        },
        {
         "hovertemplate": "Emission Offsetter=%{x}<br>Range=Medium<br>Emission=%{y}<extra></extra>",
         "legendgroup": "ICAO, Medium",
         "marker": {
          "color": "#9467BD",
          "size": 10,
          "symbol": "circle"
         },
         "mode": "markers",
         "name": "ICAO, Medium",
         "orientation": "v",
         "showlegend": true,
         "type": "scatter",
         "x": [
          "ICAO"
         ],
         "xaxis": "x",
         "y": [
          0.3076
         ],
         "yaxis": "y"
        },
        {
         "hovertemplate": "Emission Offsetter=%{x}<br>Range=Long<br>Emission=%{y}<extra></extra>",
         "legendgroup": "ICAO, Long",
         "marker": {
          "color": "#9467BD",
          "size": 10,
          "symbol": "square"
         },
         "mode": "markers",
         "name": "ICAO, Long",
         "orientation": "v",
         "showlegend": true,
         "type": "scatter",
         "x": [
          "ICAO"
         ],
         "xaxis": "x",
         "y": [
          0.907
         ],
         "yaxis": "y"
        }
       ],
       "layout": {
        "height": 500,
        "legend": {
         "title": {
          "text": "Emission Offsetter, Range"
         },
         "tracegroupgap": 0
        },
        "margin": {
         "t": 60
        },
        "template": {
         "data": {
          "bar": [
           {
            "error_x": {
             "color": "#2a3f5f"
            },
            "error_y": {
             "color": "#2a3f5f"
            },
            "marker": {
             "line": {
              "color": "#E5ECF6",
              "width": 0.5
             },
             "pattern": {
              "fillmode": "overlay",
              "size": 10,
              "solidity": 0.2
             }
            },
            "type": "bar"
           }
          ],
          "barpolar": [
           {
            "marker": {
             "line": {
              "color": "#E5ECF6",
              "width": 0.5
             },
             "pattern": {
              "fillmode": "overlay",
              "size": 10,
              "solidity": 0.2
             }
            },
            "type": "barpolar"
           }
          ],
          "carpet": [
           {
            "aaxis": {
             "endlinecolor": "#2a3f5f",
             "gridcolor": "white",
             "linecolor": "white",
             "minorgridcolor": "white",
             "startlinecolor": "#2a3f5f"
            },
            "baxis": {
             "endlinecolor": "#2a3f5f",
             "gridcolor": "white",
             "linecolor": "white",
             "minorgridcolor": "white",
             "startlinecolor": "#2a3f5f"
            },
            "type": "carpet"
           }
          ],
          "choropleth": [
           {
            "colorbar": {
             "outlinewidth": 0,
             "ticks": ""
            },
            "type": "choropleth"
           }
          ],
          "contour": [
           {
            "colorbar": {
             "outlinewidth": 0,
             "ticks": ""
            },
            "colorscale": [
             [
              0,
              "#0d0887"
             ],
             [
              0.1111111111111111,
              "#46039f"
             ],
             [
              0.2222222222222222,
              "#7201a8"
             ],
             [
              0.3333333333333333,
              "#9c179e"
             ],
             [
              0.4444444444444444,
              "#bd3786"
             ],
             [
              0.5555555555555556,
              "#d8576b"
             ],
             [
              0.6666666666666666,
              "#ed7953"
             ],
             [
              0.7777777777777778,
              "#fb9f3a"
             ],
             [
              0.8888888888888888,
              "#fdca26"
             ],
             [
              1,
              "#f0f921"
             ]
            ],
            "type": "contour"
           }
          ],
          "contourcarpet": [
           {
            "colorbar": {
             "outlinewidth": 0,
             "ticks": ""
            },
            "type": "contourcarpet"
           }
          ],
          "heatmap": [
           {
            "colorbar": {
             "outlinewidth": 0,
             "ticks": ""
            },
            "colorscale": [
             [
              0,
              "#0d0887"
             ],
             [
              0.1111111111111111,
              "#46039f"
             ],
             [
              0.2222222222222222,
              "#7201a8"
             ],
             [
              0.3333333333333333,
              "#9c179e"
             ],
             [
              0.4444444444444444,
              "#bd3786"
             ],
             [
              0.5555555555555556,
              "#d8576b"
             ],
             [
              0.6666666666666666,
              "#ed7953"
             ],
             [
              0.7777777777777778,
              "#fb9f3a"
             ],
             [
              0.8888888888888888,
              "#fdca26"
             ],
             [
              1,
              "#f0f921"
             ]
            ],
            "type": "heatmap"
           }
          ],
          "heatmapgl": [
           {
            "colorbar": {
             "outlinewidth": 0,
             "ticks": ""
            },
            "colorscale": [
             [
              0,
              "#0d0887"
             ],
             [
              0.1111111111111111,
              "#46039f"
             ],
             [
              0.2222222222222222,
              "#7201a8"
             ],
             [
              0.3333333333333333,
              "#9c179e"
             ],
             [
              0.4444444444444444,
              "#bd3786"
             ],
             [
              0.5555555555555556,
              "#d8576b"
             ],
             [
              0.6666666666666666,
              "#ed7953"
             ],
             [
              0.7777777777777778,
              "#fb9f3a"
             ],
             [
              0.8888888888888888,
              "#fdca26"
             ],
             [
              1,
              "#f0f921"
             ]
            ],
            "type": "heatmapgl"
           }
          ],
          "histogram": [
           {
            "marker": {
             "pattern": {
              "fillmode": "overlay",
              "size": 10,
              "solidity": 0.2
             }
            },
            "type": "histogram"
           }
          ],
          "histogram2d": [
           {
            "colorbar": {
             "outlinewidth": 0,
             "ticks": ""
            },
            "colorscale": [
             [
              0,
              "#0d0887"
             ],
             [
              0.1111111111111111,
              "#46039f"
             ],
             [
              0.2222222222222222,
              "#7201a8"
             ],
             [
              0.3333333333333333,
              "#9c179e"
             ],
             [
              0.4444444444444444,
              "#bd3786"
             ],
             [
              0.5555555555555556,
              "#d8576b"
             ],
             [
              0.6666666666666666,
              "#ed7953"
             ],
             [
              0.7777777777777778,
              "#fb9f3a"
             ],
             [
              0.8888888888888888,
              "#fdca26"
             ],
             [
              1,
              "#f0f921"
             ]
            ],
            "type": "histogram2d"
           }
          ],
          "histogram2dcontour": [
           {
            "colorbar": {
             "outlinewidth": 0,
             "ticks": ""
            },
            "colorscale": [
             [
              0,
              "#0d0887"
             ],
             [
              0.1111111111111111,
              "#46039f"
             ],
             [
              0.2222222222222222,
              "#7201a8"
             ],
             [
              0.3333333333333333,
              "#9c179e"
             ],
             [
              0.4444444444444444,
              "#bd3786"
             ],
             [
              0.5555555555555556,
              "#d8576b"
             ],
             [
              0.6666666666666666,
              "#ed7953"
             ],
             [
              0.7777777777777778,
              "#fb9f3a"
             ],
             [
              0.8888888888888888,
              "#fdca26"
             ],
             [
              1,
              "#f0f921"
             ]
            ],
            "type": "histogram2dcontour"
           }
          ],
          "mesh3d": [
           {
            "colorbar": {
             "outlinewidth": 0,
             "ticks": ""
            },
            "type": "mesh3d"
           }
          ],
          "parcoords": [
           {
            "line": {
             "colorbar": {
              "outlinewidth": 0,
              "ticks": ""
             }
            },
            "type": "parcoords"
           }
          ],
          "pie": [
           {
            "automargin": true,
            "type": "pie"
           }
          ],
          "scatter": [
           {
            "fillpattern": {
             "fillmode": "overlay",
             "size": 10,
             "solidity": 0.2
            },
            "type": "scatter"
           }
          ],
          "scatter3d": [
           {
            "line": {
             "colorbar": {
              "outlinewidth": 0,
              "ticks": ""
             }
            },
            "marker": {
             "colorbar": {
              "outlinewidth": 0,
              "ticks": ""
             }
            },
            "type": "scatter3d"
           }
          ],
          "scattercarpet": [
           {
            "marker": {
             "colorbar": {
              "outlinewidth": 0,
              "ticks": ""
             }
            },
            "type": "scattercarpet"
           }
          ],
          "scattergeo": [
           {
            "marker": {
             "colorbar": {
              "outlinewidth": 0,
              "ticks": ""
             }
            },
            "type": "scattergeo"
           }
          ],
          "scattergl": [
           {
            "marker": {
             "colorbar": {
              "outlinewidth": 0,
              "ticks": ""
             }
            },
            "type": "scattergl"
           }
          ],
          "scattermapbox": [
           {
            "marker": {
             "colorbar": {
              "outlinewidth": 0,
              "ticks": ""
             }
            },
            "type": "scattermapbox"
           }
          ],
          "scatterpolar": [
           {
            "marker": {
             "colorbar": {
              "outlinewidth": 0,
              "ticks": ""
             }
            },
            "type": "scatterpolar"
           }
          ],
          "scatterpolargl": [
           {
            "marker": {
             "colorbar": {
              "outlinewidth": 0,
              "ticks": ""
             }
            },
            "type": "scatterpolargl"
           }
          ],
          "scatterternary": [
           {
            "marker": {
             "colorbar": {
              "outlinewidth": 0,
              "ticks": ""
             }
            },
            "type": "scatterternary"
           }
          ],
          "surface": [
           {
            "colorbar": {
             "outlinewidth": 0,
             "ticks": ""
            },
            "colorscale": [
             [
              0,
              "#0d0887"
             ],
             [
              0.1111111111111111,
              "#46039f"
             ],
             [
              0.2222222222222222,
              "#7201a8"
             ],
             [
              0.3333333333333333,
              "#9c179e"
             ],
             [
              0.4444444444444444,
              "#bd3786"
             ],
             [
              0.5555555555555556,
              "#d8576b"
             ],
             [
              0.6666666666666666,
              "#ed7953"
             ],
             [
              0.7777777777777778,
              "#fb9f3a"
             ],
             [
              0.8888888888888888,
              "#fdca26"
             ],
             [
              1,
              "#f0f921"
             ]
            ],
            "type": "surface"
           }
          ],
          "table": [
           {
            "cells": {
             "fill": {
              "color": "#EBF0F8"
             },
             "line": {
              "color": "white"
             }
            },
            "header": {
             "fill": {
              "color": "#C8D4E3"
             },
             "line": {
              "color": "white"
             }
            },
            "type": "table"
           }
          ]
         },
         "layout": {
          "annotationdefaults": {
           "arrowcolor": "#2a3f5f",
           "arrowhead": 0,
           "arrowwidth": 1
          },
          "autotypenumbers": "strict",
          "coloraxis": {
           "colorbar": {
            "outlinewidth": 0,
            "ticks": ""
           }
          },
          "colorscale": {
           "diverging": [
            [
             0,
             "#8e0152"
            ],
            [
             0.1,
             "#c51b7d"
            ],
            [
             0.2,
             "#de77ae"
            ],
            [
             0.3,
             "#f1b6da"
            ],
            [
             0.4,
             "#fde0ef"
            ],
            [
             0.5,
             "#f7f7f7"
            ],
            [
             0.6,
             "#e6f5d0"
            ],
            [
             0.7,
             "#b8e186"
            ],
            [
             0.8,
             "#7fbc41"
            ],
            [
             0.9,
             "#4d9221"
            ],
            [
             1,
             "#276419"
            ]
           ],
           "sequential": [
            [
             0,
             "#0d0887"
            ],
            [
             0.1111111111111111,
             "#46039f"
            ],
            [
             0.2222222222222222,
             "#7201a8"
            ],
            [
             0.3333333333333333,
             "#9c179e"
            ],
            [
             0.4444444444444444,
             "#bd3786"
            ],
            [
             0.5555555555555556,
             "#d8576b"
            ],
            [
             0.6666666666666666,
             "#ed7953"
            ],
            [
             0.7777777777777778,
             "#fb9f3a"
            ],
            [
             0.8888888888888888,
             "#fdca26"
            ],
            [
             1,
             "#f0f921"
            ]
           ],
           "sequentialminus": [
            [
             0,
             "#0d0887"
            ],
            [
             0.1111111111111111,
             "#46039f"
            ],
            [
             0.2222222222222222,
             "#7201a8"
            ],
            [
             0.3333333333333333,
             "#9c179e"
            ],
            [
             0.4444444444444444,
             "#bd3786"
            ],
            [
             0.5555555555555556,
             "#d8576b"
            ],
            [
             0.6666666666666666,
             "#ed7953"
            ],
            [
             0.7777777777777778,
             "#fb9f3a"
            ],
            [
             0.8888888888888888,
             "#fdca26"
            ],
            [
             1,
             "#f0f921"
            ]
           ]
          },
          "colorway": [
           "#636efa",
           "#EF553B",
           "#00cc96",
           "#ab63fa",
           "#FFA15A",
           "#19d3f3",
           "#FF6692",
           "#B6E880",
           "#FF97FF",
           "#FECB52"
          ],
          "font": {
           "color": "#2a3f5f"
          },
          "geo": {
           "bgcolor": "white",
           "lakecolor": "white",
           "landcolor": "#E5ECF6",
           "showlakes": true,
           "showland": true,
           "subunitcolor": "white"
          },
          "hoverlabel": {
           "align": "left"
          },
          "hovermode": "closest",
          "mapbox": {
           "style": "light"
          },
          "paper_bgcolor": "white",
          "plot_bgcolor": "#E5ECF6",
          "polar": {
           "angularaxis": {
            "gridcolor": "white",
            "linecolor": "white",
            "ticks": ""
           },
           "bgcolor": "#E5ECF6",
           "radialaxis": {
            "gridcolor": "white",
            "linecolor": "white",
            "ticks": ""
           }
          },
          "scene": {
           "xaxis": {
            "backgroundcolor": "#E5ECF6",
            "gridcolor": "white",
            "gridwidth": 2,
            "linecolor": "white",
            "showbackground": true,
            "ticks": "",
            "zerolinecolor": "white"
           },
           "yaxis": {
            "backgroundcolor": "#E5ECF6",
            "gridcolor": "white",
            "gridwidth": 2,
            "linecolor": "white",
            "showbackground": true,
            "ticks": "",
            "zerolinecolor": "white"
           },
           "zaxis": {
            "backgroundcolor": "#E5ECF6",
            "gridcolor": "white",
            "gridwidth": 2,
            "linecolor": "white",
            "showbackground": true,
            "ticks": "",
            "zerolinecolor": "white"
           }
          },
          "shapedefaults": {
           "line": {
            "color": "#2a3f5f"
           }
          },
          "ternary": {
           "aaxis": {
            "gridcolor": "white",
            "linecolor": "white",
            "ticks": ""
           },
           "baxis": {
            "gridcolor": "white",
            "linecolor": "white",
            "ticks": ""
           },
           "bgcolor": "#E5ECF6",
           "caxis": {
            "gridcolor": "white",
            "linecolor": "white",
            "ticks": ""
           }
          },
          "title": {
           "x": 0.05
          },
          "xaxis": {
           "automargin": true,
           "gridcolor": "white",
           "linecolor": "white",
           "ticks": "",
           "title": {
            "standoff": 15
           },
           "zerolinecolor": "white",
           "zerolinewidth": 2
          },
          "yaxis": {
           "automargin": true,
           "gridcolor": "white",
           "linecolor": "white",
           "ticks": "",
           "title": {
            "standoff": 15
           },
           "zerolinecolor": "white",
           "zerolinewidth": 2
          }
         }
        },
        "title": {
         "text": "Comparison of Flight Emission Estimations by Flight Range",
         "x": 0.5
        },
        "width": 1000,
        "xaxis": {
         "anchor": "y",
         "categoryarray": [
          "disCarbon",
          "myclimate",
          "atmosfair",
          "Google Flights",
          "ICAO"
         ],
         "categoryorder": "array",
         "domain": [
          0,
          1
         ],
         "title": {
          "text": ""
         }
        },
        "yaxis": {
         "anchor": "x",
         "domain": [
          0,
          1
         ],
         "range": [
          0,
          6
         ],
         "title": {
          "text": "Emissions, tCO<sub>2</sub>"
         }
        }
       }
      }
     },
     "metadata": {},
     "output_type": "display_data"
    }
   ],
   "source": [
    "fig = px.scatter(emissions_range, x=\"Emission Offsetter\", y=\"Emission\", \n",
    "                 color=\"Emission Offsetter\", \n",
    "                 color_discrete_sequence=color_sequence,\n",
    "                 symbol=\"Range\",\n",
    "                 symbol_sequence= ['x', 'circle', 'square'])\n",
    "fig.update_yaxes(range=[0, 6.0])\n",
    "fig.update_layout(\n",
    "    title=\"Comparison of Flight Emission Estimations by Flight Range\",\n",
    "    title_x=0.5,\n",
    "    yaxis_title=\"Emissions, tCO<sub>2</sub>\",\n",
    "    #showlegend=False,\n",
    "    height=500, width=1000\n",
    ")\n",
    "fig.update_traces(marker_size=10)\n",
    "fig.for_each_annotation(lambda a: a.update(text=a.text.split(\"=\")[-1]))\n",
    "# Remove all xaxis_titles\n",
    "for axis in fig.layout:\n",
    "    if type(fig.layout[axis]) == go.layout.XAxis:\n",
    "        fig.layout[axis].title.text = ''\n",
    "fig.show()"
   ]
  },
  {
   "cell_type": "markdown",
   "metadata": {},
   "source": [
    "## Comparison of Estimators for Different Passenger Travel Classes (Economy/Business/First)"
   ]
  },
  {
   "cell_type": "code",
   "execution_count": 8,
   "metadata": {},
   "outputs": [
    {
     "data": {
      "text/html": [
       "<div>\n",
       "<style scoped>\n",
       "    .dataframe tbody tr th:only-of-type {\n",
       "        vertical-align: middle;\n",
       "    }\n",
       "\n",
       "    .dataframe tbody tr th {\n",
       "        vertical-align: top;\n",
       "    }\n",
       "\n",
       "    .dataframe thead th {\n",
       "        text-align: right;\n",
       "    }\n",
       "</style>\n",
       "<table border=\"1\" class=\"dataframe\">\n",
       "  <thead>\n",
       "    <tr style=\"text-align: right;\">\n",
       "      <th></th>\n",
       "      <th>Emission Offsetter</th>\n",
       "      <th>Range</th>\n",
       "      <th>Route</th>\n",
       "      <th>Emission</th>\n",
       "      <th>Type</th>\n",
       "      <th>Range Label</th>\n",
       "      <th>Passenger Travel Class</th>\n",
       "    </tr>\n",
       "  </thead>\n",
       "  <tbody>\n",
       "    <tr>\n",
       "      <th>12</th>\n",
       "      <td>disCarbon</td>\n",
       "      <td>Long</td>\n",
       "      <td>ZRH-SIN</td>\n",
       "      <td>9.9</td>\n",
       "      <td>Single</td>\n",
       "      <td>Long: ZRH-SIN, 10,300 km</td>\n",
       "      <td>First</td>\n",
       "    </tr>\n",
       "    <tr>\n",
       "      <th>13</th>\n",
       "      <td>myclimate</td>\n",
       "      <td>Long</td>\n",
       "      <td>ZRH-SIN</td>\n",
       "      <td>10.2</td>\n",
       "      <td>Single</td>\n",
       "      <td>Long: ZRH-SIN, 10,300 km</td>\n",
       "      <td>First</td>\n",
       "    </tr>\n",
       "    <tr>\n",
       "      <th>14</th>\n",
       "      <td>atmosfair</td>\n",
       "      <td>Long</td>\n",
       "      <td>ZRH-SIN</td>\n",
       "      <td>14.6</td>\n",
       "      <td>Average</td>\n",
       "      <td>Long: ZRH-SIN, 10,300 km</td>\n",
       "      <td>First</td>\n",
       "    </tr>\n",
       "    <tr>\n",
       "      <th>15</th>\n",
       "      <td>Google Flights</td>\n",
       "      <td>Long</td>\n",
       "      <td>ZRH-SIN</td>\n",
       "      <td>7.5</td>\n",
       "      <td>Single</td>\n",
       "      <td>Long: ZRH-SIN, 10,300 km</td>\n",
       "      <td>First</td>\n",
       "    </tr>\n",
       "    <tr>\n",
       "      <th>16</th>\n",
       "      <td>Google Flights</td>\n",
       "      <td>Long</td>\n",
       "      <td>ZRH-SIN</td>\n",
       "      <td>8.8</td>\n",
       "      <td>Single</td>\n",
       "      <td>Long: ZRH-SIN, 10,300 km</td>\n",
       "      <td>First</td>\n",
       "    </tr>\n",
       "    <tr>\n",
       "      <th>17</th>\n",
       "      <td>ICAO</td>\n",
       "      <td>Long</td>\n",
       "      <td>ZRH-SIN</td>\n",
       "      <td>NaN</td>\n",
       "      <td>Single</td>\n",
       "      <td>Long: ZRH-SIN, 10,300 km</td>\n",
       "      <td>First</td>\n",
       "    </tr>\n",
       "  </tbody>\n",
       "</table>\n",
       "</div>"
      ],
      "text/plain": [
       "   Emission Offsetter Range    Route  Emission     Type  \\\n",
       "12          disCarbon  Long  ZRH-SIN       9.9   Single   \n",
       "13          myclimate  Long  ZRH-SIN      10.2   Single   \n",
       "14          atmosfair  Long  ZRH-SIN      14.6  Average   \n",
       "15     Google Flights  Long  ZRH-SIN       7.5   Single   \n",
       "16     Google Flights  Long  ZRH-SIN       8.8   Single   \n",
       "17               ICAO  Long  ZRH-SIN       NaN   Single   \n",
       "\n",
       "                 Range Label Passenger Travel Class  \n",
       "12  Long: ZRH-SIN, 10,300 km                  First  \n",
       "13  Long: ZRH-SIN, 10,300 km                  First  \n",
       "14  Long: ZRH-SIN, 10,300 km                  First  \n",
       "15  Long: ZRH-SIN, 10,300 km                  First  \n",
       "16  Long: ZRH-SIN, 10,300 km                  First  \n",
       "17  Long: ZRH-SIN, 10,300 km                  First  "
      ]
     },
     "execution_count": 8,
     "metadata": {},
     "output_type": "execute_result"
    }
   ],
   "source": [
    "emissions_class =  pd.read_csv(\"20220719EstimatorComparisonClass.csv\")\n",
    "emissions_class.query(\"`Passenger Travel Class` == 'First'\")"
   ]
  },
  {
   "cell_type": "code",
   "execution_count": 9,
   "metadata": {},
   "outputs": [
    {
     "data": {
      "application/vnd.plotly.v1+json": {
       "config": {
        "plotlyServerURL": "https://plot.ly"
       },
       "data": [
        {
         "hovertemplate": "Emission Offsetter=%{x}<br>Passenger Travel Class=Economy<br>Emission=%{y}<extra></extra>",
         "legendgroup": "disCarbon",
         "marker": {
          "color": "#2CA02C",
          "size": 10,
          "symbol": "x"
         },
         "mode": "markers",
         "name": "disCarbon",
         "orientation": "v",
         "showlegend": true,
         "type": "scatter",
         "x": [
          "disCarbon"
         ],
         "xaxis": "x",
         "y": [
          3.322
         ],
         "yaxis": "y"
        },
        {
         "hovertemplate": "Emission Offsetter=%{x}<br>Passenger Travel Class=Business<br>Emission=%{y}<extra></extra>",
         "legendgroup": "disCarbon",
         "marker": {
          "color": "#2CA02C",
          "size": 10,
          "symbol": "x"
         },
         "mode": "markers",
         "name": "disCarbon",
         "orientation": "v",
         "showlegend": false,
         "type": "scatter",
         "x": [
          "disCarbon"
         ],
         "xaxis": "x2",
         "y": [
          6.4
         ],
         "yaxis": "y2"
        },
        {
         "hovertemplate": "Emission Offsetter=%{x}<br>Passenger Travel Class=First<br>Emission=%{y}<extra></extra>",
         "legendgroup": "disCarbon",
         "marker": {
          "color": "#2CA02C",
          "size": 10,
          "symbol": "x"
         },
         "mode": "markers",
         "name": "disCarbon",
         "orientation": "v",
         "showlegend": false,
         "type": "scatter",
         "x": [
          "disCarbon"
         ],
         "xaxis": "x3",
         "y": [
          9.9
         ],
         "yaxis": "y3"
        },
        {
         "hovertemplate": "Emission Offsetter=%{x}<br>Passenger Travel Class=Economy<br>Emission=%{y}<extra></extra>",
         "legendgroup": "myclimate",
         "marker": {
          "color": "#1F77B4",
          "size": 10,
          "symbol": "x"
         },
         "mode": "markers",
         "name": "myclimate",
         "orientation": "v",
         "showlegend": true,
         "type": "scatter",
         "x": [
          "myclimate"
         ],
         "xaxis": "x",
         "y": [
          3.4
         ],
         "yaxis": "y"
        },
        {
         "hovertemplate": "Emission Offsetter=%{x}<br>Passenger Travel Class=Business<br>Emission=%{y}<extra></extra>",
         "legendgroup": "myclimate",
         "marker": {
          "color": "#1F77B4",
          "size": 10,
          "symbol": "x"
         },
         "mode": "markers",
         "name": "myclimate",
         "orientation": "v",
         "showlegend": false,
         "type": "scatter",
         "x": [
          "myclimate"
         ],
         "xaxis": "x2",
         "y": [
          6.5
         ],
         "yaxis": "y2"
        },
        {
         "hovertemplate": "Emission Offsetter=%{x}<br>Passenger Travel Class=First<br>Emission=%{y}<extra></extra>",
         "legendgroup": "myclimate",
         "marker": {
          "color": "#1F77B4",
          "size": 10,
          "symbol": "x"
         },
         "mode": "markers",
         "name": "myclimate",
         "orientation": "v",
         "showlegend": false,
         "type": "scatter",
         "x": [
          "myclimate"
         ],
         "xaxis": "x3",
         "y": [
          10.2
         ],
         "yaxis": "y3"
        },
        {
         "hovertemplate": "Emission Offsetter=%{x}<br>Passenger Travel Class=Economy<br>Emission=%{y}<extra></extra>",
         "legendgroup": "atmosfair",
         "marker": {
          "color": "#FF7F0E",
          "size": 10,
          "symbol": "x"
         },
         "mode": "markers",
         "name": "atmosfair",
         "orientation": "v",
         "showlegend": true,
         "type": "scatter",
         "x": [
          "atmosfair"
         ],
         "xaxis": "x",
         "y": [
          5.84
         ],
         "yaxis": "y"
        },
        {
         "hovertemplate": "Emission Offsetter=%{x}<br>Passenger Travel Class=Business<br>Emission=%{y}<extra></extra>",
         "legendgroup": "atmosfair",
         "marker": {
          "color": "#FF7F0E",
          "size": 10,
          "symbol": "x"
         },
         "mode": "markers",
         "name": "atmosfair",
         "orientation": "v",
         "showlegend": false,
         "type": "scatter",
         "x": [
          "atmosfair"
         ],
         "xaxis": "x2",
         "y": [
          11
         ],
         "yaxis": "y2"
        },
        {
         "hovertemplate": "Emission Offsetter=%{x}<br>Passenger Travel Class=First<br>Emission=%{y}<extra></extra>",
         "legendgroup": "atmosfair",
         "marker": {
          "color": "#FF7F0E",
          "size": 10,
          "symbol": "x"
         },
         "mode": "markers",
         "name": "atmosfair",
         "orientation": "v",
         "showlegend": false,
         "type": "scatter",
         "x": [
          "atmosfair"
         ],
         "xaxis": "x3",
         "y": [
          14.6
         ],
         "yaxis": "y3"
        },
        {
         "hovertemplate": "Emission Offsetter=%{x}<br>Passenger Travel Class=Economy<br>Emission=%{y}<extra></extra>",
         "legendgroup": "Google Flights",
         "marker": {
          "color": "#D62728",
          "size": 10,
          "symbol": "x"
         },
         "mode": "markers",
         "name": "Google Flights",
         "orientation": "v",
         "showlegend": true,
         "type": "scatter",
         "x": [
          "Google Flights",
          "Google Flights"
         ],
         "xaxis": "x",
         "y": [
          1.056,
          1.786
         ],
         "yaxis": "y"
        },
        {
         "hovertemplate": "Emission Offsetter=%{x}<br>Passenger Travel Class=Business<br>Emission=%{y}<extra></extra>",
         "legendgroup": "Google Flights",
         "marker": {
          "color": "#D62728",
          "size": 10,
          "symbol": "x"
         },
         "mode": "markers",
         "name": "Google Flights",
         "orientation": "v",
         "showlegend": false,
         "type": "scatter",
         "x": [
          "Google Flights",
          "Google Flights"
         ],
         "xaxis": "x2",
         "y": [
          4.2,
          6.4
         ],
         "yaxis": "y2"
        },
        {
         "hovertemplate": "Emission Offsetter=%{x}<br>Passenger Travel Class=First<br>Emission=%{y}<extra></extra>",
         "legendgroup": "Google Flights",
         "marker": {
          "color": "#D62728",
          "size": 10,
          "symbol": "x"
         },
         "mode": "markers",
         "name": "Google Flights",
         "orientation": "v",
         "showlegend": false,
         "type": "scatter",
         "x": [
          "Google Flights",
          "Google Flights"
         ],
         "xaxis": "x3",
         "y": [
          7.5,
          8.8
         ],
         "yaxis": "y3"
        },
        {
         "hovertemplate": "Emission Offsetter=%{x}<br>Passenger Travel Class=Economy<br>Emission=%{y}<extra></extra>",
         "legendgroup": "ICAO",
         "marker": {
          "color": "#9467BD",
          "size": 10,
          "symbol": "x"
         },
         "mode": "markers",
         "name": "ICAO",
         "orientation": "v",
         "showlegend": true,
         "type": "scatter",
         "x": [
          "ICAO"
         ],
         "xaxis": "x",
         "y": [
          0.907
         ],
         "yaxis": "y"
        },
        {
         "hovertemplate": "Emission Offsetter=%{x}<br>Passenger Travel Class=Business<br>Emission=%{y}<extra></extra>",
         "legendgroup": "ICAO",
         "marker": {
          "color": "#9467BD",
          "size": 10,
          "symbol": "x"
         },
         "mode": "markers",
         "name": "ICAO",
         "orientation": "v",
         "showlegend": false,
         "type": "scatter",
         "x": [
          "ICAO"
         ],
         "xaxis": "x2",
         "y": [
          1.8
         ],
         "yaxis": "y2"
        },
        {
         "hovertemplate": "Emission Offsetter=%{x}<br>Passenger Travel Class=First<br>Emission=%{y}<extra></extra>",
         "legendgroup": "ICAO",
         "marker": {
          "color": "#9467BD",
          "size": 10,
          "symbol": "x"
         },
         "mode": "markers",
         "name": "ICAO",
         "orientation": "v",
         "showlegend": false,
         "type": "scatter",
         "x": [
          "ICAO"
         ],
         "xaxis": "x3",
         "y": [
          null
         ],
         "yaxis": "y3"
        }
       ],
       "layout": {
        "annotations": [
         {
          "font": {},
          "showarrow": false,
          "text": "Economy",
          "x": 0.15999999999999998,
          "xanchor": "center",
          "xref": "paper",
          "y": 1,
          "yanchor": "bottom",
          "yref": "paper"
         },
         {
          "font": {},
          "showarrow": false,
          "text": "Business",
          "x": 0.49999999999999994,
          "xanchor": "center",
          "xref": "paper",
          "y": 1,
          "yanchor": "bottom",
          "yref": "paper"
         },
         {
          "font": {},
          "showarrow": false,
          "text": "First",
          "x": 0.8399999999999999,
          "xanchor": "center",
          "xref": "paper",
          "y": 1,
          "yanchor": "bottom",
          "yref": "paper"
         }
        ],
        "height": 500,
        "legend": {
         "title": {
          "text": "Emission Offsetter"
         },
         "tracegroupgap": 0
        },
        "margin": {
         "t": 60
        },
        "showlegend": false,
        "template": {
         "data": {
          "bar": [
           {
            "error_x": {
             "color": "#2a3f5f"
            },
            "error_y": {
             "color": "#2a3f5f"
            },
            "marker": {
             "line": {
              "color": "#E5ECF6",
              "width": 0.5
             },
             "pattern": {
              "fillmode": "overlay",
              "size": 10,
              "solidity": 0.2
             }
            },
            "type": "bar"
           }
          ],
          "barpolar": [
           {
            "marker": {
             "line": {
              "color": "#E5ECF6",
              "width": 0.5
             },
             "pattern": {
              "fillmode": "overlay",
              "size": 10,
              "solidity": 0.2
             }
            },
            "type": "barpolar"
           }
          ],
          "carpet": [
           {
            "aaxis": {
             "endlinecolor": "#2a3f5f",
             "gridcolor": "white",
             "linecolor": "white",
             "minorgridcolor": "white",
             "startlinecolor": "#2a3f5f"
            },
            "baxis": {
             "endlinecolor": "#2a3f5f",
             "gridcolor": "white",
             "linecolor": "white",
             "minorgridcolor": "white",
             "startlinecolor": "#2a3f5f"
            },
            "type": "carpet"
           }
          ],
          "choropleth": [
           {
            "colorbar": {
             "outlinewidth": 0,
             "ticks": ""
            },
            "type": "choropleth"
           }
          ],
          "contour": [
           {
            "colorbar": {
             "outlinewidth": 0,
             "ticks": ""
            },
            "colorscale": [
             [
              0,
              "#0d0887"
             ],
             [
              0.1111111111111111,
              "#46039f"
             ],
             [
              0.2222222222222222,
              "#7201a8"
             ],
             [
              0.3333333333333333,
              "#9c179e"
             ],
             [
              0.4444444444444444,
              "#bd3786"
             ],
             [
              0.5555555555555556,
              "#d8576b"
             ],
             [
              0.6666666666666666,
              "#ed7953"
             ],
             [
              0.7777777777777778,
              "#fb9f3a"
             ],
             [
              0.8888888888888888,
              "#fdca26"
             ],
             [
              1,
              "#f0f921"
             ]
            ],
            "type": "contour"
           }
          ],
          "contourcarpet": [
           {
            "colorbar": {
             "outlinewidth": 0,
             "ticks": ""
            },
            "type": "contourcarpet"
           }
          ],
          "heatmap": [
           {
            "colorbar": {
             "outlinewidth": 0,
             "ticks": ""
            },
            "colorscale": [
             [
              0,
              "#0d0887"
             ],
             [
              0.1111111111111111,
              "#46039f"
             ],
             [
              0.2222222222222222,
              "#7201a8"
             ],
             [
              0.3333333333333333,
              "#9c179e"
             ],
             [
              0.4444444444444444,
              "#bd3786"
             ],
             [
              0.5555555555555556,
              "#d8576b"
             ],
             [
              0.6666666666666666,
              "#ed7953"
             ],
             [
              0.7777777777777778,
              "#fb9f3a"
             ],
             [
              0.8888888888888888,
              "#fdca26"
             ],
             [
              1,
              "#f0f921"
             ]
            ],
            "type": "heatmap"
           }
          ],
          "heatmapgl": [
           {
            "colorbar": {
             "outlinewidth": 0,
             "ticks": ""
            },
            "colorscale": [
             [
              0,
              "#0d0887"
             ],
             [
              0.1111111111111111,
              "#46039f"
             ],
             [
              0.2222222222222222,
              "#7201a8"
             ],
             [
              0.3333333333333333,
              "#9c179e"
             ],
             [
              0.4444444444444444,
              "#bd3786"
             ],
             [
              0.5555555555555556,
              "#d8576b"
             ],
             [
              0.6666666666666666,
              "#ed7953"
             ],
             [
              0.7777777777777778,
              "#fb9f3a"
             ],
             [
              0.8888888888888888,
              "#fdca26"
             ],
             [
              1,
              "#f0f921"
             ]
            ],
            "type": "heatmapgl"
           }
          ],
          "histogram": [
           {
            "marker": {
             "pattern": {
              "fillmode": "overlay",
              "size": 10,
              "solidity": 0.2
             }
            },
            "type": "histogram"
           }
          ],
          "histogram2d": [
           {
            "colorbar": {
             "outlinewidth": 0,
             "ticks": ""
            },
            "colorscale": [
             [
              0,
              "#0d0887"
             ],
             [
              0.1111111111111111,
              "#46039f"
             ],
             [
              0.2222222222222222,
              "#7201a8"
             ],
             [
              0.3333333333333333,
              "#9c179e"
             ],
             [
              0.4444444444444444,
              "#bd3786"
             ],
             [
              0.5555555555555556,
              "#d8576b"
             ],
             [
              0.6666666666666666,
              "#ed7953"
             ],
             [
              0.7777777777777778,
              "#fb9f3a"
             ],
             [
              0.8888888888888888,
              "#fdca26"
             ],
             [
              1,
              "#f0f921"
             ]
            ],
            "type": "histogram2d"
           }
          ],
          "histogram2dcontour": [
           {
            "colorbar": {
             "outlinewidth": 0,
             "ticks": ""
            },
            "colorscale": [
             [
              0,
              "#0d0887"
             ],
             [
              0.1111111111111111,
              "#46039f"
             ],
             [
              0.2222222222222222,
              "#7201a8"
             ],
             [
              0.3333333333333333,
              "#9c179e"
             ],
             [
              0.4444444444444444,
              "#bd3786"
             ],
             [
              0.5555555555555556,
              "#d8576b"
             ],
             [
              0.6666666666666666,
              "#ed7953"
             ],
             [
              0.7777777777777778,
              "#fb9f3a"
             ],
             [
              0.8888888888888888,
              "#fdca26"
             ],
             [
              1,
              "#f0f921"
             ]
            ],
            "type": "histogram2dcontour"
           }
          ],
          "mesh3d": [
           {
            "colorbar": {
             "outlinewidth": 0,
             "ticks": ""
            },
            "type": "mesh3d"
           }
          ],
          "parcoords": [
           {
            "line": {
             "colorbar": {
              "outlinewidth": 0,
              "ticks": ""
             }
            },
            "type": "parcoords"
           }
          ],
          "pie": [
           {
            "automargin": true,
            "type": "pie"
           }
          ],
          "scatter": [
           {
            "fillpattern": {
             "fillmode": "overlay",
             "size": 10,
             "solidity": 0.2
            },
            "type": "scatter"
           }
          ],
          "scatter3d": [
           {
            "line": {
             "colorbar": {
              "outlinewidth": 0,
              "ticks": ""
             }
            },
            "marker": {
             "colorbar": {
              "outlinewidth": 0,
              "ticks": ""
             }
            },
            "type": "scatter3d"
           }
          ],
          "scattercarpet": [
           {
            "marker": {
             "colorbar": {
              "outlinewidth": 0,
              "ticks": ""
             }
            },
            "type": "scattercarpet"
           }
          ],
          "scattergeo": [
           {
            "marker": {
             "colorbar": {
              "outlinewidth": 0,
              "ticks": ""
             }
            },
            "type": "scattergeo"
           }
          ],
          "scattergl": [
           {
            "marker": {
             "colorbar": {
              "outlinewidth": 0,
              "ticks": ""
             }
            },
            "type": "scattergl"
           }
          ],
          "scattermapbox": [
           {
            "marker": {
             "colorbar": {
              "outlinewidth": 0,
              "ticks": ""
             }
            },
            "type": "scattermapbox"
           }
          ],
          "scatterpolar": [
           {
            "marker": {
             "colorbar": {
              "outlinewidth": 0,
              "ticks": ""
             }
            },
            "type": "scatterpolar"
           }
          ],
          "scatterpolargl": [
           {
            "marker": {
             "colorbar": {
              "outlinewidth": 0,
              "ticks": ""
             }
            },
            "type": "scatterpolargl"
           }
          ],
          "scatterternary": [
           {
            "marker": {
             "colorbar": {
              "outlinewidth": 0,
              "ticks": ""
             }
            },
            "type": "scatterternary"
           }
          ],
          "surface": [
           {
            "colorbar": {
             "outlinewidth": 0,
             "ticks": ""
            },
            "colorscale": [
             [
              0,
              "#0d0887"
             ],
             [
              0.1111111111111111,
              "#46039f"
             ],
             [
              0.2222222222222222,
              "#7201a8"
             ],
             [
              0.3333333333333333,
              "#9c179e"
             ],
             [
              0.4444444444444444,
              "#bd3786"
             ],
             [
              0.5555555555555556,
              "#d8576b"
             ],
             [
              0.6666666666666666,
              "#ed7953"
             ],
             [
              0.7777777777777778,
              "#fb9f3a"
             ],
             [
              0.8888888888888888,
              "#fdca26"
             ],
             [
              1,
              "#f0f921"
             ]
            ],
            "type": "surface"
           }
          ],
          "table": [
           {
            "cells": {
             "fill": {
              "color": "#EBF0F8"
             },
             "line": {
              "color": "white"
             }
            },
            "header": {
             "fill": {
              "color": "#C8D4E3"
             },
             "line": {
              "color": "white"
             }
            },
            "type": "table"
           }
          ]
         },
         "layout": {
          "annotationdefaults": {
           "arrowcolor": "#2a3f5f",
           "arrowhead": 0,
           "arrowwidth": 1
          },
          "autotypenumbers": "strict",
          "coloraxis": {
           "colorbar": {
            "outlinewidth": 0,
            "ticks": ""
           }
          },
          "colorscale": {
           "diverging": [
            [
             0,
             "#8e0152"
            ],
            [
             0.1,
             "#c51b7d"
            ],
            [
             0.2,
             "#de77ae"
            ],
            [
             0.3,
             "#f1b6da"
            ],
            [
             0.4,
             "#fde0ef"
            ],
            [
             0.5,
             "#f7f7f7"
            ],
            [
             0.6,
             "#e6f5d0"
            ],
            [
             0.7,
             "#b8e186"
            ],
            [
             0.8,
             "#7fbc41"
            ],
            [
             0.9,
             "#4d9221"
            ],
            [
             1,
             "#276419"
            ]
           ],
           "sequential": [
            [
             0,
             "#0d0887"
            ],
            [
             0.1111111111111111,
             "#46039f"
            ],
            [
             0.2222222222222222,
             "#7201a8"
            ],
            [
             0.3333333333333333,
             "#9c179e"
            ],
            [
             0.4444444444444444,
             "#bd3786"
            ],
            [
             0.5555555555555556,
             "#d8576b"
            ],
            [
             0.6666666666666666,
             "#ed7953"
            ],
            [
             0.7777777777777778,
             "#fb9f3a"
            ],
            [
             0.8888888888888888,
             "#fdca26"
            ],
            [
             1,
             "#f0f921"
            ]
           ],
           "sequentialminus": [
            [
             0,
             "#0d0887"
            ],
            [
             0.1111111111111111,
             "#46039f"
            ],
            [
             0.2222222222222222,
             "#7201a8"
            ],
            [
             0.3333333333333333,
             "#9c179e"
            ],
            [
             0.4444444444444444,
             "#bd3786"
            ],
            [
             0.5555555555555556,
             "#d8576b"
            ],
            [
             0.6666666666666666,
             "#ed7953"
            ],
            [
             0.7777777777777778,
             "#fb9f3a"
            ],
            [
             0.8888888888888888,
             "#fdca26"
            ],
            [
             1,
             "#f0f921"
            ]
           ]
          },
          "colorway": [
           "#636efa",
           "#EF553B",
           "#00cc96",
           "#ab63fa",
           "#FFA15A",
           "#19d3f3",
           "#FF6692",
           "#B6E880",
           "#FF97FF",
           "#FECB52"
          ],
          "font": {
           "color": "#2a3f5f"
          },
          "geo": {
           "bgcolor": "white",
           "lakecolor": "white",
           "landcolor": "#E5ECF6",
           "showlakes": true,
           "showland": true,
           "subunitcolor": "white"
          },
          "hoverlabel": {
           "align": "left"
          },
          "hovermode": "closest",
          "mapbox": {
           "style": "light"
          },
          "paper_bgcolor": "white",
          "plot_bgcolor": "#E5ECF6",
          "polar": {
           "angularaxis": {
            "gridcolor": "white",
            "linecolor": "white",
            "ticks": ""
           },
           "bgcolor": "#E5ECF6",
           "radialaxis": {
            "gridcolor": "white",
            "linecolor": "white",
            "ticks": ""
           }
          },
          "scene": {
           "xaxis": {
            "backgroundcolor": "#E5ECF6",
            "gridcolor": "white",
            "gridwidth": 2,
            "linecolor": "white",
            "showbackground": true,
            "ticks": "",
            "zerolinecolor": "white"
           },
           "yaxis": {
            "backgroundcolor": "#E5ECF6",
            "gridcolor": "white",
            "gridwidth": 2,
            "linecolor": "white",
            "showbackground": true,
            "ticks": "",
            "zerolinecolor": "white"
           },
           "zaxis": {
            "backgroundcolor": "#E5ECF6",
            "gridcolor": "white",
            "gridwidth": 2,
            "linecolor": "white",
            "showbackground": true,
            "ticks": "",
            "zerolinecolor": "white"
           }
          },
          "shapedefaults": {
           "line": {
            "color": "#2a3f5f"
           }
          },
          "ternary": {
           "aaxis": {
            "gridcolor": "white",
            "linecolor": "white",
            "ticks": ""
           },
           "baxis": {
            "gridcolor": "white",
            "linecolor": "white",
            "ticks": ""
           },
           "bgcolor": "#E5ECF6",
           "caxis": {
            "gridcolor": "white",
            "linecolor": "white",
            "ticks": ""
           }
          },
          "title": {
           "x": 0.05
          },
          "xaxis": {
           "automargin": true,
           "gridcolor": "white",
           "linecolor": "white",
           "ticks": "",
           "title": {
            "standoff": 15
           },
           "zerolinecolor": "white",
           "zerolinewidth": 2
          },
          "yaxis": {
           "automargin": true,
           "gridcolor": "white",
           "linecolor": "white",
           "ticks": "",
           "title": {
            "standoff": 15
           },
           "zerolinecolor": "white",
           "zerolinewidth": 2
          }
         }
        },
        "title": {
         "text": "Comparison of Flight Emission Estimations by Passenger Travel Class",
         "x": 0.5
        },
        "width": 1000,
        "xaxis": {
         "anchor": "y",
         "categoryarray": [
          "disCarbon",
          "myclimate",
          "atmosfair",
          "Google Flights",
          "ICAO"
         ],
         "categoryorder": "array",
         "domain": [
          0,
          0.31999999999999995
         ],
         "title": {
          "text": ""
         }
        },
        "xaxis2": {
         "anchor": "y2",
         "categoryarray": [
          "disCarbon",
          "myclimate",
          "atmosfair",
          "Google Flights",
          "ICAO"
         ],
         "categoryorder": "array",
         "domain": [
          0.33999999999999997,
          0.6599999999999999
         ],
         "matches": "x",
         "title": {
          "text": ""
         }
        },
        "xaxis3": {
         "anchor": "y3",
         "categoryarray": [
          "disCarbon",
          "myclimate",
          "atmosfair",
          "Google Flights",
          "ICAO"
         ],
         "categoryorder": "array",
         "domain": [
          0.6799999999999999,
          0.9999999999999999
         ],
         "matches": "x",
         "title": {
          "text": ""
         }
        },
        "yaxis": {
         "anchor": "x",
         "domain": [
          0,
          1
         ],
         "title": {
          "text": "Emissions, tCO<sub>2</sub>"
         }
        },
        "yaxis2": {
         "anchor": "x2",
         "domain": [
          0,
          1
         ],
         "matches": "y",
         "showticklabels": false
        },
        "yaxis3": {
         "anchor": "x3",
         "domain": [
          0,
          1
         ],
         "matches": "y",
         "showticklabels": false
        }
       }
      }
     },
     "metadata": {},
     "output_type": "display_data"
    }
   ],
   "source": [
    "fig = px.scatter(emissions_class, x=\"Emission Offsetter\", y=\"Emission\", \n",
    "                 color=\"Emission Offsetter\", \n",
    "                 color_discrete_sequence=color_sequence,\n",
    "                 facet_col=\"Passenger Travel Class\")\n",
    "#fig.update_yaxes(range=[0, 8.0])\n",
    "fig.update_layout(\n",
    "    title=\"Comparison of Flight Emission Estimations by Passenger Travel Class\",\n",
    "    title_x=0.5,\n",
    "    yaxis_title=\"Emissions, tCO<sub>2</sub>\",\n",
    "    showlegend=False,\n",
    "    height=500, width=1000\n",
    ")\n",
    "fig.update_traces(marker_symbol='x', marker_size=10)\n",
    "fig.for_each_annotation(lambda a: a.update(text=a.text.split(\"=\")[-1]))\n",
    "# Remove all xaxis_titles\n",
    "for axis in fig.layout:\n",
    "    if type(fig.layout[axis]) == go.layout.XAxis:\n",
    "        fig.layout[axis].title.text = ''\n",
    "fig.show()"
   ]
  },
  {
   "cell_type": "code",
   "execution_count": 10,
   "metadata": {},
   "outputs": [
    {
     "data": {
      "application/vnd.plotly.v1+json": {
       "config": {
        "plotlyServerURL": "https://plot.ly"
       },
       "data": [
        {
         "hovertemplate": "Emission Offsetter=%{x}<br>Passenger Travel Class=Economy<br>Emission=%{y}<extra></extra>",
         "legendgroup": "disCarbon, Economy",
         "marker": {
          "color": "#2CA02C",
          "size": 10,
          "symbol": "x"
         },
         "mode": "markers",
         "name": "disCarbon, Economy",
         "orientation": "v",
         "showlegend": true,
         "type": "scatter",
         "x": [
          "disCarbon"
         ],
         "xaxis": "x",
         "y": [
          3.322
         ],
         "yaxis": "y"
        },
        {
         "hovertemplate": "Emission Offsetter=%{x}<br>Passenger Travel Class=Business<br>Emission=%{y}<extra></extra>",
         "legendgroup": "disCarbon, Business",
         "marker": {
          "color": "#2CA02C",
          "size": 10,
          "symbol": "circle"
         },
         "mode": "markers",
         "name": "disCarbon, Business",
         "orientation": "v",
         "showlegend": true,
         "type": "scatter",
         "x": [
          "disCarbon"
         ],
         "xaxis": "x",
         "y": [
          6.4
         ],
         "yaxis": "y"
        },
        {
         "hovertemplate": "Emission Offsetter=%{x}<br>Passenger Travel Class=First<br>Emission=%{y}<extra></extra>",
         "legendgroup": "disCarbon, First",
         "marker": {
          "color": "#2CA02C",
          "size": 10,
          "symbol": "square"
         },
         "mode": "markers",
         "name": "disCarbon, First",
         "orientation": "v",
         "showlegend": true,
         "type": "scatter",
         "x": [
          "disCarbon"
         ],
         "xaxis": "x",
         "y": [
          9.9
         ],
         "yaxis": "y"
        },
        {
         "hovertemplate": "Emission Offsetter=%{x}<br>Passenger Travel Class=Economy<br>Emission=%{y}<extra></extra>",
         "legendgroup": "myclimate, Economy",
         "marker": {
          "color": "#1F77B4",
          "size": 10,
          "symbol": "x"
         },
         "mode": "markers",
         "name": "myclimate, Economy",
         "orientation": "v",
         "showlegend": true,
         "type": "scatter",
         "x": [
          "myclimate"
         ],
         "xaxis": "x",
         "y": [
          3.4
         ],
         "yaxis": "y"
        },
        {
         "hovertemplate": "Emission Offsetter=%{x}<br>Passenger Travel Class=Business<br>Emission=%{y}<extra></extra>",
         "legendgroup": "myclimate, Business",
         "marker": {
          "color": "#1F77B4",
          "size": 10,
          "symbol": "circle"
         },
         "mode": "markers",
         "name": "myclimate, Business",
         "orientation": "v",
         "showlegend": true,
         "type": "scatter",
         "x": [
          "myclimate"
         ],
         "xaxis": "x",
         "y": [
          6.5
         ],
         "yaxis": "y"
        },
        {
         "hovertemplate": "Emission Offsetter=%{x}<br>Passenger Travel Class=First<br>Emission=%{y}<extra></extra>",
         "legendgroup": "myclimate, First",
         "marker": {
          "color": "#1F77B4",
          "size": 10,
          "symbol": "square"
         },
         "mode": "markers",
         "name": "myclimate, First",
         "orientation": "v",
         "showlegend": true,
         "type": "scatter",
         "x": [
          "myclimate"
         ],
         "xaxis": "x",
         "y": [
          10.2
         ],
         "yaxis": "y"
        },
        {
         "hovertemplate": "Emission Offsetter=%{x}<br>Passenger Travel Class=Economy<br>Emission=%{y}<extra></extra>",
         "legendgroup": "atmosfair, Economy",
         "marker": {
          "color": "#FF7F0E",
          "size": 10,
          "symbol": "x"
         },
         "mode": "markers",
         "name": "atmosfair, Economy",
         "orientation": "v",
         "showlegend": true,
         "type": "scatter",
         "x": [
          "atmosfair"
         ],
         "xaxis": "x",
         "y": [
          5.84
         ],
         "yaxis": "y"
        },
        {
         "hovertemplate": "Emission Offsetter=%{x}<br>Passenger Travel Class=Business<br>Emission=%{y}<extra></extra>",
         "legendgroup": "atmosfair, Business",
         "marker": {
          "color": "#FF7F0E",
          "size": 10,
          "symbol": "circle"
         },
         "mode": "markers",
         "name": "atmosfair, Business",
         "orientation": "v",
         "showlegend": true,
         "type": "scatter",
         "x": [
          "atmosfair"
         ],
         "xaxis": "x",
         "y": [
          11
         ],
         "yaxis": "y"
        },
        {
         "hovertemplate": "Emission Offsetter=%{x}<br>Passenger Travel Class=First<br>Emission=%{y}<extra></extra>",
         "legendgroup": "atmosfair, First",
         "marker": {
          "color": "#FF7F0E",
          "size": 10,
          "symbol": "square"
         },
         "mode": "markers",
         "name": "atmosfair, First",
         "orientation": "v",
         "showlegend": true,
         "type": "scatter",
         "x": [
          "atmosfair"
         ],
         "xaxis": "x",
         "y": [
          14.6
         ],
         "yaxis": "y"
        },
        {
         "hovertemplate": "Emission Offsetter=%{x}<br>Passenger Travel Class=Economy<br>Emission=%{y}<extra></extra>",
         "legendgroup": "Google Flights, Economy",
         "marker": {
          "color": "#D62728",
          "size": 10,
          "symbol": "x"
         },
         "mode": "markers",
         "name": "Google Flights, Economy",
         "orientation": "v",
         "showlegend": true,
         "type": "scatter",
         "x": [
          "Google Flights",
          "Google Flights"
         ],
         "xaxis": "x",
         "y": [
          1.056,
          1.786
         ],
         "yaxis": "y"
        },
        {
         "hovertemplate": "Emission Offsetter=%{x}<br>Passenger Travel Class=Business<br>Emission=%{y}<extra></extra>",
         "legendgroup": "Google Flights, Business",
         "marker": {
          "color": "#D62728",
          "size": 10,
          "symbol": "circle"
         },
         "mode": "markers",
         "name": "Google Flights, Business",
         "orientation": "v",
         "showlegend": true,
         "type": "scatter",
         "x": [
          "Google Flights",
          "Google Flights"
         ],
         "xaxis": "x",
         "y": [
          4.2,
          6.4
         ],
         "yaxis": "y"
        },
        {
         "hovertemplate": "Emission Offsetter=%{x}<br>Passenger Travel Class=First<br>Emission=%{y}<extra></extra>",
         "legendgroup": "Google Flights, First",
         "marker": {
          "color": "#D62728",
          "size": 10,
          "symbol": "square"
         },
         "mode": "markers",
         "name": "Google Flights, First",
         "orientation": "v",
         "showlegend": true,
         "type": "scatter",
         "x": [
          "Google Flights",
          "Google Flights"
         ],
         "xaxis": "x",
         "y": [
          7.5,
          8.8
         ],
         "yaxis": "y"
        },
        {
         "hovertemplate": "Emission Offsetter=%{x}<br>Passenger Travel Class=Economy<br>Emission=%{y}<extra></extra>",
         "legendgroup": "ICAO, Economy",
         "marker": {
          "color": "#9467BD",
          "size": 10,
          "symbol": "x"
         },
         "mode": "markers",
         "name": "ICAO, Economy",
         "orientation": "v",
         "showlegend": true,
         "type": "scatter",
         "x": [
          "ICAO"
         ],
         "xaxis": "x",
         "y": [
          0.907
         ],
         "yaxis": "y"
        },
        {
         "hovertemplate": "Emission Offsetter=%{x}<br>Passenger Travel Class=Business<br>Emission=%{y}<extra></extra>",
         "legendgroup": "ICAO, Business",
         "marker": {
          "color": "#9467BD",
          "size": 10,
          "symbol": "circle"
         },
         "mode": "markers",
         "name": "ICAO, Business",
         "orientation": "v",
         "showlegend": true,
         "type": "scatter",
         "x": [
          "ICAO"
         ],
         "xaxis": "x",
         "y": [
          1.8
         ],
         "yaxis": "y"
        },
        {
         "hovertemplate": "Emission Offsetter=%{x}<br>Passenger Travel Class=First<br>Emission=%{y}<extra></extra>",
         "legendgroup": "ICAO, First",
         "marker": {
          "color": "#9467BD",
          "size": 10,
          "symbol": "square"
         },
         "mode": "markers",
         "name": "ICAO, First",
         "orientation": "v",
         "showlegend": false,
         "type": "scatter",
         "x": [
          "ICAO"
         ],
         "xaxis": "x",
         "y": [
          null
         ],
         "yaxis": "y"
        }
       ],
       "layout": {
        "annotations": [
         {
          "font": {
           "size": 10
          },
          "showarrow": false,
          "text": "(Google Flights data points display the min and max values returned from all flights)",
          "x": 1,
          "xref": "x domain",
          "y": -0.12,
          "yref": "y domain"
         }
        ],
        "height": 500,
        "legend": {
         "title": {
          "text": "Emissions Estimator, Class"
         },
         "tracegroupgap": 0
        },
        "margin": {
         "t": 60
        },
        "template": {
         "data": {
          "bar": [
           {
            "error_x": {
             "color": "#2a3f5f"
            },
            "error_y": {
             "color": "#2a3f5f"
            },
            "marker": {
             "line": {
              "color": "#E5ECF6",
              "width": 0.5
             },
             "pattern": {
              "fillmode": "overlay",
              "size": 10,
              "solidity": 0.2
             }
            },
            "type": "bar"
           }
          ],
          "barpolar": [
           {
            "marker": {
             "line": {
              "color": "#E5ECF6",
              "width": 0.5
             },
             "pattern": {
              "fillmode": "overlay",
              "size": 10,
              "solidity": 0.2
             }
            },
            "type": "barpolar"
           }
          ],
          "carpet": [
           {
            "aaxis": {
             "endlinecolor": "#2a3f5f",
             "gridcolor": "white",
             "linecolor": "white",
             "minorgridcolor": "white",
             "startlinecolor": "#2a3f5f"
            },
            "baxis": {
             "endlinecolor": "#2a3f5f",
             "gridcolor": "white",
             "linecolor": "white",
             "minorgridcolor": "white",
             "startlinecolor": "#2a3f5f"
            },
            "type": "carpet"
           }
          ],
          "choropleth": [
           {
            "colorbar": {
             "outlinewidth": 0,
             "ticks": ""
            },
            "type": "choropleth"
           }
          ],
          "contour": [
           {
            "colorbar": {
             "outlinewidth": 0,
             "ticks": ""
            },
            "colorscale": [
             [
              0,
              "#0d0887"
             ],
             [
              0.1111111111111111,
              "#46039f"
             ],
             [
              0.2222222222222222,
              "#7201a8"
             ],
             [
              0.3333333333333333,
              "#9c179e"
             ],
             [
              0.4444444444444444,
              "#bd3786"
             ],
             [
              0.5555555555555556,
              "#d8576b"
             ],
             [
              0.6666666666666666,
              "#ed7953"
             ],
             [
              0.7777777777777778,
              "#fb9f3a"
             ],
             [
              0.8888888888888888,
              "#fdca26"
             ],
             [
              1,
              "#f0f921"
             ]
            ],
            "type": "contour"
           }
          ],
          "contourcarpet": [
           {
            "colorbar": {
             "outlinewidth": 0,
             "ticks": ""
            },
            "type": "contourcarpet"
           }
          ],
          "heatmap": [
           {
            "colorbar": {
             "outlinewidth": 0,
             "ticks": ""
            },
            "colorscale": [
             [
              0,
              "#0d0887"
             ],
             [
              0.1111111111111111,
              "#46039f"
             ],
             [
              0.2222222222222222,
              "#7201a8"
             ],
             [
              0.3333333333333333,
              "#9c179e"
             ],
             [
              0.4444444444444444,
              "#bd3786"
             ],
             [
              0.5555555555555556,
              "#d8576b"
             ],
             [
              0.6666666666666666,
              "#ed7953"
             ],
             [
              0.7777777777777778,
              "#fb9f3a"
             ],
             [
              0.8888888888888888,
              "#fdca26"
             ],
             [
              1,
              "#f0f921"
             ]
            ],
            "type": "heatmap"
           }
          ],
          "heatmapgl": [
           {
            "colorbar": {
             "outlinewidth": 0,
             "ticks": ""
            },
            "colorscale": [
             [
              0,
              "#0d0887"
             ],
             [
              0.1111111111111111,
              "#46039f"
             ],
             [
              0.2222222222222222,
              "#7201a8"
             ],
             [
              0.3333333333333333,
              "#9c179e"
             ],
             [
              0.4444444444444444,
              "#bd3786"
             ],
             [
              0.5555555555555556,
              "#d8576b"
             ],
             [
              0.6666666666666666,
              "#ed7953"
             ],
             [
              0.7777777777777778,
              "#fb9f3a"
             ],
             [
              0.8888888888888888,
              "#fdca26"
             ],
             [
              1,
              "#f0f921"
             ]
            ],
            "type": "heatmapgl"
           }
          ],
          "histogram": [
           {
            "marker": {
             "pattern": {
              "fillmode": "overlay",
              "size": 10,
              "solidity": 0.2
             }
            },
            "type": "histogram"
           }
          ],
          "histogram2d": [
           {
            "colorbar": {
             "outlinewidth": 0,
             "ticks": ""
            },
            "colorscale": [
             [
              0,
              "#0d0887"
             ],
             [
              0.1111111111111111,
              "#46039f"
             ],
             [
              0.2222222222222222,
              "#7201a8"
             ],
             [
              0.3333333333333333,
              "#9c179e"
             ],
             [
              0.4444444444444444,
              "#bd3786"
             ],
             [
              0.5555555555555556,
              "#d8576b"
             ],
             [
              0.6666666666666666,
              "#ed7953"
             ],
             [
              0.7777777777777778,
              "#fb9f3a"
             ],
             [
              0.8888888888888888,
              "#fdca26"
             ],
             [
              1,
              "#f0f921"
             ]
            ],
            "type": "histogram2d"
           }
          ],
          "histogram2dcontour": [
           {
            "colorbar": {
             "outlinewidth": 0,
             "ticks": ""
            },
            "colorscale": [
             [
              0,
              "#0d0887"
             ],
             [
              0.1111111111111111,
              "#46039f"
             ],
             [
              0.2222222222222222,
              "#7201a8"
             ],
             [
              0.3333333333333333,
              "#9c179e"
             ],
             [
              0.4444444444444444,
              "#bd3786"
             ],
             [
              0.5555555555555556,
              "#d8576b"
             ],
             [
              0.6666666666666666,
              "#ed7953"
             ],
             [
              0.7777777777777778,
              "#fb9f3a"
             ],
             [
              0.8888888888888888,
              "#fdca26"
             ],
             [
              1,
              "#f0f921"
             ]
            ],
            "type": "histogram2dcontour"
           }
          ],
          "mesh3d": [
           {
            "colorbar": {
             "outlinewidth": 0,
             "ticks": ""
            },
            "type": "mesh3d"
           }
          ],
          "parcoords": [
           {
            "line": {
             "colorbar": {
              "outlinewidth": 0,
              "ticks": ""
             }
            },
            "type": "parcoords"
           }
          ],
          "pie": [
           {
            "automargin": true,
            "type": "pie"
           }
          ],
          "scatter": [
           {
            "fillpattern": {
             "fillmode": "overlay",
             "size": 10,
             "solidity": 0.2
            },
            "type": "scatter"
           }
          ],
          "scatter3d": [
           {
            "line": {
             "colorbar": {
              "outlinewidth": 0,
              "ticks": ""
             }
            },
            "marker": {
             "colorbar": {
              "outlinewidth": 0,
              "ticks": ""
             }
            },
            "type": "scatter3d"
           }
          ],
          "scattercarpet": [
           {
            "marker": {
             "colorbar": {
              "outlinewidth": 0,
              "ticks": ""
             }
            },
            "type": "scattercarpet"
           }
          ],
          "scattergeo": [
           {
            "marker": {
             "colorbar": {
              "outlinewidth": 0,
              "ticks": ""
             }
            },
            "type": "scattergeo"
           }
          ],
          "scattergl": [
           {
            "marker": {
             "colorbar": {
              "outlinewidth": 0,
              "ticks": ""
             }
            },
            "type": "scattergl"
           }
          ],
          "scattermapbox": [
           {
            "marker": {
             "colorbar": {
              "outlinewidth": 0,
              "ticks": ""
             }
            },
            "type": "scattermapbox"
           }
          ],
          "scatterpolar": [
           {
            "marker": {
             "colorbar": {
              "outlinewidth": 0,
              "ticks": ""
             }
            },
            "type": "scatterpolar"
           }
          ],
          "scatterpolargl": [
           {
            "marker": {
             "colorbar": {
              "outlinewidth": 0,
              "ticks": ""
             }
            },
            "type": "scatterpolargl"
           }
          ],
          "scatterternary": [
           {
            "marker": {
             "colorbar": {
              "outlinewidth": 0,
              "ticks": ""
             }
            },
            "type": "scatterternary"
           }
          ],
          "surface": [
           {
            "colorbar": {
             "outlinewidth": 0,
             "ticks": ""
            },
            "colorscale": [
             [
              0,
              "#0d0887"
             ],
             [
              0.1111111111111111,
              "#46039f"
             ],
             [
              0.2222222222222222,
              "#7201a8"
             ],
             [
              0.3333333333333333,
              "#9c179e"
             ],
             [
              0.4444444444444444,
              "#bd3786"
             ],
             [
              0.5555555555555556,
              "#d8576b"
             ],
             [
              0.6666666666666666,
              "#ed7953"
             ],
             [
              0.7777777777777778,
              "#fb9f3a"
             ],
             [
              0.8888888888888888,
              "#fdca26"
             ],
             [
              1,
              "#f0f921"
             ]
            ],
            "type": "surface"
           }
          ],
          "table": [
           {
            "cells": {
             "fill": {
              "color": "#EBF0F8"
             },
             "line": {
              "color": "white"
             }
            },
            "header": {
             "fill": {
              "color": "#C8D4E3"
             },
             "line": {
              "color": "white"
             }
            },
            "type": "table"
           }
          ]
         },
         "layout": {
          "annotationdefaults": {
           "arrowcolor": "#2a3f5f",
           "arrowhead": 0,
           "arrowwidth": 1
          },
          "autotypenumbers": "strict",
          "coloraxis": {
           "colorbar": {
            "outlinewidth": 0,
            "ticks": ""
           }
          },
          "colorscale": {
           "diverging": [
            [
             0,
             "#8e0152"
            ],
            [
             0.1,
             "#c51b7d"
            ],
            [
             0.2,
             "#de77ae"
            ],
            [
             0.3,
             "#f1b6da"
            ],
            [
             0.4,
             "#fde0ef"
            ],
            [
             0.5,
             "#f7f7f7"
            ],
            [
             0.6,
             "#e6f5d0"
            ],
            [
             0.7,
             "#b8e186"
            ],
            [
             0.8,
             "#7fbc41"
            ],
            [
             0.9,
             "#4d9221"
            ],
            [
             1,
             "#276419"
            ]
           ],
           "sequential": [
            [
             0,
             "#0d0887"
            ],
            [
             0.1111111111111111,
             "#46039f"
            ],
            [
             0.2222222222222222,
             "#7201a8"
            ],
            [
             0.3333333333333333,
             "#9c179e"
            ],
            [
             0.4444444444444444,
             "#bd3786"
            ],
            [
             0.5555555555555556,
             "#d8576b"
            ],
            [
             0.6666666666666666,
             "#ed7953"
            ],
            [
             0.7777777777777778,
             "#fb9f3a"
            ],
            [
             0.8888888888888888,
             "#fdca26"
            ],
            [
             1,
             "#f0f921"
            ]
           ],
           "sequentialminus": [
            [
             0,
             "#0d0887"
            ],
            [
             0.1111111111111111,
             "#46039f"
            ],
            [
             0.2222222222222222,
             "#7201a8"
            ],
            [
             0.3333333333333333,
             "#9c179e"
            ],
            [
             0.4444444444444444,
             "#bd3786"
            ],
            [
             0.5555555555555556,
             "#d8576b"
            ],
            [
             0.6666666666666666,
             "#ed7953"
            ],
            [
             0.7777777777777778,
             "#fb9f3a"
            ],
            [
             0.8888888888888888,
             "#fdca26"
            ],
            [
             1,
             "#f0f921"
            ]
           ]
          },
          "colorway": [
           "#636efa",
           "#EF553B",
           "#00cc96",
           "#ab63fa",
           "#FFA15A",
           "#19d3f3",
           "#FF6692",
           "#B6E880",
           "#FF97FF",
           "#FECB52"
          ],
          "font": {
           "color": "#2a3f5f"
          },
          "geo": {
           "bgcolor": "white",
           "lakecolor": "white",
           "landcolor": "#E5ECF6",
           "showlakes": true,
           "showland": true,
           "subunitcolor": "white"
          },
          "hoverlabel": {
           "align": "left"
          },
          "hovermode": "closest",
          "mapbox": {
           "style": "light"
          },
          "paper_bgcolor": "white",
          "plot_bgcolor": "#E5ECF6",
          "polar": {
           "angularaxis": {
            "gridcolor": "white",
            "linecolor": "white",
            "ticks": ""
           },
           "bgcolor": "#E5ECF6",
           "radialaxis": {
            "gridcolor": "white",
            "linecolor": "white",
            "ticks": ""
           }
          },
          "scene": {
           "xaxis": {
            "backgroundcolor": "#E5ECF6",
            "gridcolor": "white",
            "gridwidth": 2,
            "linecolor": "white",
            "showbackground": true,
            "ticks": "",
            "zerolinecolor": "white"
           },
           "yaxis": {
            "backgroundcolor": "#E5ECF6",
            "gridcolor": "white",
            "gridwidth": 2,
            "linecolor": "white",
            "showbackground": true,
            "ticks": "",
            "zerolinecolor": "white"
           },
           "zaxis": {
            "backgroundcolor": "#E5ECF6",
            "gridcolor": "white",
            "gridwidth": 2,
            "linecolor": "white",
            "showbackground": true,
            "ticks": "",
            "zerolinecolor": "white"
           }
          },
          "shapedefaults": {
           "line": {
            "color": "#2a3f5f"
           }
          },
          "ternary": {
           "aaxis": {
            "gridcolor": "white",
            "linecolor": "white",
            "ticks": ""
           },
           "baxis": {
            "gridcolor": "white",
            "linecolor": "white",
            "ticks": ""
           },
           "bgcolor": "#E5ECF6",
           "caxis": {
            "gridcolor": "white",
            "linecolor": "white",
            "ticks": ""
           }
          },
          "title": {
           "x": 0.05
          },
          "xaxis": {
           "automargin": true,
           "gridcolor": "white",
           "linecolor": "white",
           "ticks": "",
           "title": {
            "standoff": 15
           },
           "zerolinecolor": "white",
           "zerolinewidth": 2
          },
          "yaxis": {
           "automargin": true,
           "gridcolor": "white",
           "linecolor": "white",
           "ticks": "",
           "title": {
            "standoff": 15
           },
           "zerolinecolor": "white",
           "zerolinewidth": 2
          }
         }
        },
        "title": {
         "text": "Comparison of Flight Emission Estimations by Passenger Travel Class",
         "x": 0.5
        },
        "width": 1000,
        "xaxis": {
         "anchor": "y",
         "categoryarray": [
          "disCarbon",
          "myclimate",
          "atmosfair",
          "Google Flights",
          "ICAO"
         ],
         "categoryorder": "array",
         "domain": [
          0,
          1
         ],
         "title": {
          "text": ""
         }
        },
        "yaxis": {
         "anchor": "x",
         "domain": [
          0,
          1
         ],
         "range": [
          0,
          16
         ],
         "title": {
          "text": "Emissions, tCO<sub>2</sub>"
         }
        }
       }
      }
     },
     "metadata": {},
     "output_type": "display_data"
    }
   ],
   "source": [
    "fig = px.scatter(emissions_class, x=\"Emission Offsetter\", y=\"Emission\", \n",
    "                 color=\"Emission Offsetter\", \n",
    "                 color_discrete_sequence=color_sequence,\n",
    "                 #'green', 'blue', 'red', 'purple', 'orange'],\n",
    "                 symbol=\"Passenger Travel Class\",\n",
    "                 symbol_sequence= ['x', 'circle', 'square'])\n",
    "fig.update_yaxes(range=[0, 16.0])\n",
    "fig.update_layout(\n",
    "    title=\"Comparison of Flight Emission Estimations by Passenger Travel Class\",\n",
    "    title_x=0.5,\n",
    "    yaxis_title=\"Emissions, tCO<sub>2</sub>\",\n",
    "    legend_title=\"Emissions Estimator, Class\",\n",
    "    #showlegend=False,\n",
    "    height=500, width=1000\n",
    ")\n",
    "fig.update_traces(marker_size=10)\n",
    "fig.for_each_annotation(lambda a: a.update(text=a.text.split(\"=\")[-1]))\n",
    "# Remove all xaxis_titles\n",
    "for axis in fig.layout:\n",
    "    if type(fig.layout[axis]) == go.layout.XAxis:\n",
    "        fig.layout[axis].title.text = ''\n",
    "for trace in fig['data']: \n",
    "    if(trace['name'] == 'ICAO, First'): trace['showlegend'] = False\n",
    "\n",
    "note = '(Google Flights data points display the min and max values returned from all flights)'\n",
    "fig.add_annotation(\n",
    "    showarrow=False,\n",
    "    text=note,\n",
    "    font=dict(size=10), \n",
    "    xref='x domain',\n",
    "    x=1,\n",
    "    yref='y domain',\n",
    "    y=-0.12\n",
    "    )\n",
    "fig.show()\n"
   ]
  },
  {
   "cell_type": "code",
   "execution_count": null,
   "metadata": {},
   "outputs": [],
   "source": []
  }
 ],
 "metadata": {
  "kernelspec": {
   "display_name": "Python 3.10.0 64-bit ('310-discarbon-website-flight-notebook-2')",
   "language": "python",
   "name": "python3"
  },
  "language_info": {
   "codemirror_mode": {
    "name": "ipython",
    "version": 3
   },
   "file_extension": ".py",
   "mimetype": "text/x-python",
   "name": "python",
   "nbconvert_exporter": "python",
   "pygments_lexer": "ipython3",
   "version": "3.10.0"
  },
  "orig_nbformat": 4,
  "vscode": {
   "interpreter": {
    "hash": "1f9b76945947c3e936644a8dde4fa9bd93c44843346383fbaaf9b794b45dac6c"
   }
  }
 },
 "nbformat": 4,
 "nbformat_minor": 2
}
